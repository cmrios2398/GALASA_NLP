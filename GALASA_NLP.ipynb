{
  "nbformat": 4,
  "nbformat_minor": 0,
  "metadata": {
    "colab": {
      "name": "GALASA_1.ipynb",
      "provenance": [],
      "collapsed_sections": [
        "jd9X0UJEd1Af",
        "J5NjuHYjd-Yt",
        "vOUW4_QDuxRF"
      ],
      "mount_file_id": "1LBmdAjBCOLDkRYuSTBdg36sRxc2MSlGh",
      "authorship_tag": "ABX9TyO7ow5GQhYRwJ3qLlBpHu+b",
      "include_colab_link": true
    },
    "kernelspec": {
      "name": "python3",
      "display_name": "Python 3"
    },
    "accelerator": "GPU",
    "widgets": {
      "application/vnd.jupyter.widget-state+json": {
        "2f46f6449928470995c8efc63ac24dda": {
          "model_module": "@jupyter-widgets/controls",
          "model_name": "HBoxModel",
          "state": {
            "_view_name": "HBoxView",
            "_dom_classes": [],
            "_model_name": "HBoxModel",
            "_view_module": "@jupyter-widgets/controls",
            "_model_module_version": "1.5.0",
            "_view_count": null,
            "_view_module_version": "1.5.0",
            "box_style": "",
            "layout": "IPY_MODEL_8e2799ba7411459fa43526d71eb33b1a",
            "_model_module": "@jupyter-widgets/controls",
            "children": [
              "IPY_MODEL_70169b8e4dcb44489f37c234bf3a0ab4",
              "IPY_MODEL_cc75e9a2ceb646beb53c1b8d16e98f5f"
            ]
          }
        },
        "8e2799ba7411459fa43526d71eb33b1a": {
          "model_module": "@jupyter-widgets/base",
          "model_name": "LayoutModel",
          "state": {
            "_view_name": "LayoutView",
            "grid_template_rows": null,
            "right": null,
            "justify_content": null,
            "_view_module": "@jupyter-widgets/base",
            "overflow": null,
            "_model_module_version": "1.2.0",
            "_view_count": null,
            "flex_flow": null,
            "width": null,
            "min_width": null,
            "border": null,
            "align_items": null,
            "bottom": null,
            "_model_module": "@jupyter-widgets/base",
            "top": null,
            "grid_column": null,
            "overflow_y": null,
            "overflow_x": null,
            "grid_auto_flow": null,
            "grid_area": null,
            "grid_template_columns": null,
            "flex": null,
            "_model_name": "LayoutModel",
            "justify_items": null,
            "grid_row": null,
            "max_height": null,
            "align_content": null,
            "visibility": null,
            "align_self": null,
            "height": null,
            "min_height": null,
            "padding": null,
            "grid_auto_rows": null,
            "grid_gap": null,
            "max_width": null,
            "order": null,
            "_view_module_version": "1.2.0",
            "grid_template_areas": null,
            "object_position": null,
            "object_fit": null,
            "grid_auto_columns": null,
            "margin": null,
            "display": null,
            "left": null
          }
        },
        "70169b8e4dcb44489f37c234bf3a0ab4": {
          "model_module": "@jupyter-widgets/controls",
          "model_name": "FloatProgressModel",
          "state": {
            "_view_name": "ProgressView",
            "style": "IPY_MODEL_10d92719a7cd4ed3a33d1bf502b474f9",
            "_dom_classes": [],
            "description": "Batches: 100%",
            "_model_name": "FloatProgressModel",
            "bar_style": "success",
            "max": 21,
            "_view_module": "@jupyter-widgets/controls",
            "_model_module_version": "1.5.0",
            "value": 21,
            "_view_count": null,
            "_view_module_version": "1.5.0",
            "orientation": "horizontal",
            "min": 0,
            "description_tooltip": null,
            "_model_module": "@jupyter-widgets/controls",
            "layout": "IPY_MODEL_f10690b176b5424c82afb1c8b478abac"
          }
        },
        "cc75e9a2ceb646beb53c1b8d16e98f5f": {
          "model_module": "@jupyter-widgets/controls",
          "model_name": "HTMLModel",
          "state": {
            "_view_name": "HTMLView",
            "style": "IPY_MODEL_9922b5f19d084a5b8897675033dcad29",
            "_dom_classes": [],
            "description": "",
            "_model_name": "HTMLModel",
            "placeholder": "​",
            "_view_module": "@jupyter-widgets/controls",
            "_model_module_version": "1.5.0",
            "value": " 21/21 [00:02&lt;00:00,  8.42it/s]",
            "_view_count": null,
            "_view_module_version": "1.5.0",
            "description_tooltip": null,
            "_model_module": "@jupyter-widgets/controls",
            "layout": "IPY_MODEL_cf442a48cddd4b3eb9f8ccbb4721ec86"
          }
        },
        "10d92719a7cd4ed3a33d1bf502b474f9": {
          "model_module": "@jupyter-widgets/controls",
          "model_name": "ProgressStyleModel",
          "state": {
            "_view_name": "StyleView",
            "_model_name": "ProgressStyleModel",
            "description_width": "initial",
            "_view_module": "@jupyter-widgets/base",
            "_model_module_version": "1.5.0",
            "_view_count": null,
            "_view_module_version": "1.2.0",
            "bar_color": null,
            "_model_module": "@jupyter-widgets/controls"
          }
        },
        "f10690b176b5424c82afb1c8b478abac": {
          "model_module": "@jupyter-widgets/base",
          "model_name": "LayoutModel",
          "state": {
            "_view_name": "LayoutView",
            "grid_template_rows": null,
            "right": null,
            "justify_content": null,
            "_view_module": "@jupyter-widgets/base",
            "overflow": null,
            "_model_module_version": "1.2.0",
            "_view_count": null,
            "flex_flow": null,
            "width": null,
            "min_width": null,
            "border": null,
            "align_items": null,
            "bottom": null,
            "_model_module": "@jupyter-widgets/base",
            "top": null,
            "grid_column": null,
            "overflow_y": null,
            "overflow_x": null,
            "grid_auto_flow": null,
            "grid_area": null,
            "grid_template_columns": null,
            "flex": null,
            "_model_name": "LayoutModel",
            "justify_items": null,
            "grid_row": null,
            "max_height": null,
            "align_content": null,
            "visibility": null,
            "align_self": null,
            "height": null,
            "min_height": null,
            "padding": null,
            "grid_auto_rows": null,
            "grid_gap": null,
            "max_width": null,
            "order": null,
            "_view_module_version": "1.2.0",
            "grid_template_areas": null,
            "object_position": null,
            "object_fit": null,
            "grid_auto_columns": null,
            "margin": null,
            "display": null,
            "left": null
          }
        },
        "9922b5f19d084a5b8897675033dcad29": {
          "model_module": "@jupyter-widgets/controls",
          "model_name": "DescriptionStyleModel",
          "state": {
            "_view_name": "StyleView",
            "_model_name": "DescriptionStyleModel",
            "description_width": "",
            "_view_module": "@jupyter-widgets/base",
            "_model_module_version": "1.5.0",
            "_view_count": null,
            "_view_module_version": "1.2.0",
            "_model_module": "@jupyter-widgets/controls"
          }
        },
        "cf442a48cddd4b3eb9f8ccbb4721ec86": {
          "model_module": "@jupyter-widgets/base",
          "model_name": "LayoutModel",
          "state": {
            "_view_name": "LayoutView",
            "grid_template_rows": null,
            "right": null,
            "justify_content": null,
            "_view_module": "@jupyter-widgets/base",
            "overflow": null,
            "_model_module_version": "1.2.0",
            "_view_count": null,
            "flex_flow": null,
            "width": null,
            "min_width": null,
            "border": null,
            "align_items": null,
            "bottom": null,
            "_model_module": "@jupyter-widgets/base",
            "top": null,
            "grid_column": null,
            "overflow_y": null,
            "overflow_x": null,
            "grid_auto_flow": null,
            "grid_area": null,
            "grid_template_columns": null,
            "flex": null,
            "_model_name": "LayoutModel",
            "justify_items": null,
            "grid_row": null,
            "max_height": null,
            "align_content": null,
            "visibility": null,
            "align_self": null,
            "height": null,
            "min_height": null,
            "padding": null,
            "grid_auto_rows": null,
            "grid_gap": null,
            "max_width": null,
            "order": null,
            "_view_module_version": "1.2.0",
            "grid_template_areas": null,
            "object_position": null,
            "object_fit": null,
            "grid_auto_columns": null,
            "margin": null,
            "display": null,
            "left": null
          }
        },
        "b44af475ee704c12b09e5fa426b71e11": {
          "model_module": "@jupyter-widgets/controls",
          "model_name": "HBoxModel",
          "state": {
            "_view_name": "HBoxView",
            "_dom_classes": [],
            "_model_name": "HBoxModel",
            "_view_module": "@jupyter-widgets/controls",
            "_model_module_version": "1.5.0",
            "_view_count": null,
            "_view_module_version": "1.5.0",
            "box_style": "",
            "layout": "IPY_MODEL_20e77324426546d88fbdf957c264ee58",
            "_model_module": "@jupyter-widgets/controls",
            "children": [
              "IPY_MODEL_65f2ce1621ca4a668960893a19228d80",
              "IPY_MODEL_7ef3910986c042b2bb506c0382803f07"
            ]
          }
        },
        "20e77324426546d88fbdf957c264ee58": {
          "model_module": "@jupyter-widgets/base",
          "model_name": "LayoutModel",
          "state": {
            "_view_name": "LayoutView",
            "grid_template_rows": null,
            "right": null,
            "justify_content": null,
            "_view_module": "@jupyter-widgets/base",
            "overflow": null,
            "_model_module_version": "1.2.0",
            "_view_count": null,
            "flex_flow": null,
            "width": null,
            "min_width": null,
            "border": null,
            "align_items": null,
            "bottom": null,
            "_model_module": "@jupyter-widgets/base",
            "top": null,
            "grid_column": null,
            "overflow_y": null,
            "overflow_x": null,
            "grid_auto_flow": null,
            "grid_area": null,
            "grid_template_columns": null,
            "flex": null,
            "_model_name": "LayoutModel",
            "justify_items": null,
            "grid_row": null,
            "max_height": null,
            "align_content": null,
            "visibility": null,
            "align_self": null,
            "height": null,
            "min_height": null,
            "padding": null,
            "grid_auto_rows": null,
            "grid_gap": null,
            "max_width": null,
            "order": null,
            "_view_module_version": "1.2.0",
            "grid_template_areas": null,
            "object_position": null,
            "object_fit": null,
            "grid_auto_columns": null,
            "margin": null,
            "display": null,
            "left": null
          }
        },
        "65f2ce1621ca4a668960893a19228d80": {
          "model_module": "@jupyter-widgets/controls",
          "model_name": "FloatProgressModel",
          "state": {
            "_view_name": "ProgressView",
            "style": "IPY_MODEL_69d5e65c300641129bb87a37a44e92bc",
            "_dom_classes": [],
            "description": "Batches: 100%",
            "_model_name": "FloatProgressModel",
            "bar_style": "success",
            "max": 1,
            "_view_module": "@jupyter-widgets/controls",
            "_model_module_version": "1.5.0",
            "value": 1,
            "_view_count": null,
            "_view_module_version": "1.5.0",
            "orientation": "horizontal",
            "min": 0,
            "description_tooltip": null,
            "_model_module": "@jupyter-widgets/controls",
            "layout": "IPY_MODEL_ff45bc91a24b4b2a8d342a8969f2f20c"
          }
        },
        "7ef3910986c042b2bb506c0382803f07": {
          "model_module": "@jupyter-widgets/controls",
          "model_name": "HTMLModel",
          "state": {
            "_view_name": "HTMLView",
            "style": "IPY_MODEL_a0ffe21470784d248916ce97c948c616",
            "_dom_classes": [],
            "description": "",
            "_model_name": "HTMLModel",
            "placeholder": "​",
            "_view_module": "@jupyter-widgets/controls",
            "_model_module_version": "1.5.0",
            "value": " 1/1 [00:02&lt;00:00,  2.04s/it]",
            "_view_count": null,
            "_view_module_version": "1.5.0",
            "description_tooltip": null,
            "_model_module": "@jupyter-widgets/controls",
            "layout": "IPY_MODEL_d4aabc68b0ff42b695aaa42351cf188e"
          }
        },
        "69d5e65c300641129bb87a37a44e92bc": {
          "model_module": "@jupyter-widgets/controls",
          "model_name": "ProgressStyleModel",
          "state": {
            "_view_name": "StyleView",
            "_model_name": "ProgressStyleModel",
            "description_width": "initial",
            "_view_module": "@jupyter-widgets/base",
            "_model_module_version": "1.5.0",
            "_view_count": null,
            "_view_module_version": "1.2.0",
            "bar_color": null,
            "_model_module": "@jupyter-widgets/controls"
          }
        },
        "ff45bc91a24b4b2a8d342a8969f2f20c": {
          "model_module": "@jupyter-widgets/base",
          "model_name": "LayoutModel",
          "state": {
            "_view_name": "LayoutView",
            "grid_template_rows": null,
            "right": null,
            "justify_content": null,
            "_view_module": "@jupyter-widgets/base",
            "overflow": null,
            "_model_module_version": "1.2.0",
            "_view_count": null,
            "flex_flow": null,
            "width": null,
            "min_width": null,
            "border": null,
            "align_items": null,
            "bottom": null,
            "_model_module": "@jupyter-widgets/base",
            "top": null,
            "grid_column": null,
            "overflow_y": null,
            "overflow_x": null,
            "grid_auto_flow": null,
            "grid_area": null,
            "grid_template_columns": null,
            "flex": null,
            "_model_name": "LayoutModel",
            "justify_items": null,
            "grid_row": null,
            "max_height": null,
            "align_content": null,
            "visibility": null,
            "align_self": null,
            "height": null,
            "min_height": null,
            "padding": null,
            "grid_auto_rows": null,
            "grid_gap": null,
            "max_width": null,
            "order": null,
            "_view_module_version": "1.2.0",
            "grid_template_areas": null,
            "object_position": null,
            "object_fit": null,
            "grid_auto_columns": null,
            "margin": null,
            "display": null,
            "left": null
          }
        },
        "a0ffe21470784d248916ce97c948c616": {
          "model_module": "@jupyter-widgets/controls",
          "model_name": "DescriptionStyleModel",
          "state": {
            "_view_name": "StyleView",
            "_model_name": "DescriptionStyleModel",
            "description_width": "",
            "_view_module": "@jupyter-widgets/base",
            "_model_module_version": "1.5.0",
            "_view_count": null,
            "_view_module_version": "1.2.0",
            "_model_module": "@jupyter-widgets/controls"
          }
        },
        "d4aabc68b0ff42b695aaa42351cf188e": {
          "model_module": "@jupyter-widgets/base",
          "model_name": "LayoutModel",
          "state": {
            "_view_name": "LayoutView",
            "grid_template_rows": null,
            "right": null,
            "justify_content": null,
            "_view_module": "@jupyter-widgets/base",
            "overflow": null,
            "_model_module_version": "1.2.0",
            "_view_count": null,
            "flex_flow": null,
            "width": null,
            "min_width": null,
            "border": null,
            "align_items": null,
            "bottom": null,
            "_model_module": "@jupyter-widgets/base",
            "top": null,
            "grid_column": null,
            "overflow_y": null,
            "overflow_x": null,
            "grid_auto_flow": null,
            "grid_area": null,
            "grid_template_columns": null,
            "flex": null,
            "_model_name": "LayoutModel",
            "justify_items": null,
            "grid_row": null,
            "max_height": null,
            "align_content": null,
            "visibility": null,
            "align_self": null,
            "height": null,
            "min_height": null,
            "padding": null,
            "grid_auto_rows": null,
            "grid_gap": null,
            "max_width": null,
            "order": null,
            "_view_module_version": "1.2.0",
            "grid_template_areas": null,
            "object_position": null,
            "object_fit": null,
            "grid_auto_columns": null,
            "margin": null,
            "display": null,
            "left": null
          }
        }
      }
    }
  },
  "cells": [
    {
      "cell_type": "markdown",
      "metadata": {
        "id": "view-in-github",
        "colab_type": "text"
      },
      "source": [
        "<a href=\"https://colab.research.google.com/github/cmrios2398/GALASA_NLP/blob/main/GALASA_NLP.ipynb\" target=\"_parent\"><img src=\"https://colab.research.google.com/assets/colab-badge.svg\" alt=\"Open In Colab\"/></a>"
      ]
    },
    {
      "cell_type": "markdown",
      "metadata": {
        "id": "jd9X0UJEd1Af"
      },
      "source": [
        "\n",
        "# **Package Installation**"
      ]
    },
    {
      "cell_type": "code",
      "metadata": {
        "colab": {
          "base_uri": "https://localhost:8080/"
        },
        "id": "ff5nPTd2d7xE",
        "outputId": "bff8f4f1-1d6f-4e4d-ac4e-37c0ad3ca4af"
      },
      "source": [
        "!pip install transformers\n",
        "!pip install -U sentence-transformers\n",
        "!git clone https://github.com/huggingface/transformers.git\n",
        "\n",
        "from sentence_transformers import SentenceTransformer\n",
        "from sentence_transformers import models, losses\n",
        "import sentence_transformers as st\n",
        "import scipy.spatial\n",
        "import pickle as pkl\n",
        "import gc\n",
        "import matplotlib.pyplot as plt\n",
        "import torch"
      ],
      "execution_count": null,
      "outputs": [
        {
          "output_type": "stream",
          "text": [
            "Requirement already satisfied: transformers in /usr/local/lib/python3.7/dist-packages (4.5.1)\n",
            "Requirement already satisfied: tqdm>=4.27 in /usr/local/lib/python3.7/dist-packages (from transformers) (4.41.1)\n",
            "Requirement already satisfied: tokenizers<0.11,>=0.10.1 in /usr/local/lib/python3.7/dist-packages (from transformers) (0.10.2)\n",
            "Requirement already satisfied: packaging in /usr/local/lib/python3.7/dist-packages (from transformers) (20.9)\n",
            "Requirement already satisfied: requests in /usr/local/lib/python3.7/dist-packages (from transformers) (2.23.0)\n",
            "Requirement already satisfied: filelock in /usr/local/lib/python3.7/dist-packages (from transformers) (3.0.12)\n",
            "Requirement already satisfied: importlib-metadata; python_version < \"3.8\" in /usr/local/lib/python3.7/dist-packages (from transformers) (3.10.1)\n",
            "Requirement already satisfied: sacremoses in /usr/local/lib/python3.7/dist-packages (from transformers) (0.0.45)\n",
            "Requirement already satisfied: regex!=2019.12.17 in /usr/local/lib/python3.7/dist-packages (from transformers) (2019.12.20)\n",
            "Requirement already satisfied: numpy>=1.17 in /usr/local/lib/python3.7/dist-packages (from transformers) (1.19.5)\n",
            "Requirement already satisfied: pyparsing>=2.0.2 in /usr/local/lib/python3.7/dist-packages (from packaging->transformers) (2.4.7)\n",
            "Requirement already satisfied: chardet<4,>=3.0.2 in /usr/local/lib/python3.7/dist-packages (from requests->transformers) (3.0.4)\n",
            "Requirement already satisfied: idna<3,>=2.5 in /usr/local/lib/python3.7/dist-packages (from requests->transformers) (2.10)\n",
            "Requirement already satisfied: urllib3!=1.25.0,!=1.25.1,<1.26,>=1.21.1 in /usr/local/lib/python3.7/dist-packages (from requests->transformers) (1.24.3)\n",
            "Requirement already satisfied: certifi>=2017.4.17 in /usr/local/lib/python3.7/dist-packages (from requests->transformers) (2020.12.5)\n",
            "Requirement already satisfied: typing-extensions>=3.6.4; python_version < \"3.8\" in /usr/local/lib/python3.7/dist-packages (from importlib-metadata; python_version < \"3.8\"->transformers) (3.7.4.3)\n",
            "Requirement already satisfied: zipp>=0.5 in /usr/local/lib/python3.7/dist-packages (from importlib-metadata; python_version < \"3.8\"->transformers) (3.4.1)\n",
            "Requirement already satisfied: click in /usr/local/lib/python3.7/dist-packages (from sacremoses->transformers) (7.1.2)\n",
            "Requirement already satisfied: six in /usr/local/lib/python3.7/dist-packages (from sacremoses->transformers) (1.15.0)\n",
            "Requirement already satisfied: joblib in /usr/local/lib/python3.7/dist-packages (from sacremoses->transformers) (1.0.1)\n",
            "Requirement already up-to-date: sentence-transformers in /usr/local/lib/python3.7/dist-packages (1.1.0)\n",
            "Requirement already satisfied, skipping upgrade: transformers<5.0.0,>=3.1.0 in /usr/local/lib/python3.7/dist-packages (from sentence-transformers) (4.5.1)\n",
            "Requirement already satisfied, skipping upgrade: scikit-learn in /usr/local/lib/python3.7/dist-packages (from sentence-transformers) (0.22.2.post1)\n",
            "Requirement already satisfied, skipping upgrade: tqdm in /usr/local/lib/python3.7/dist-packages (from sentence-transformers) (4.41.1)\n",
            "Requirement already satisfied, skipping upgrade: nltk in /usr/local/lib/python3.7/dist-packages (from sentence-transformers) (3.2.5)\n",
            "Requirement already satisfied, skipping upgrade: torch>=1.6.0 in /usr/local/lib/python3.7/dist-packages (from sentence-transformers) (1.8.1+cu101)\n",
            "Requirement already satisfied, skipping upgrade: numpy in /usr/local/lib/python3.7/dist-packages (from sentence-transformers) (1.19.5)\n",
            "Requirement already satisfied, skipping upgrade: scipy in /usr/local/lib/python3.7/dist-packages (from sentence-transformers) (1.4.1)\n",
            "Requirement already satisfied, skipping upgrade: sentencepiece in /usr/local/lib/python3.7/dist-packages (from sentence-transformers) (0.1.95)\n",
            "Requirement already satisfied, skipping upgrade: requests in /usr/local/lib/python3.7/dist-packages (from transformers<5.0.0,>=3.1.0->sentence-transformers) (2.23.0)\n",
            "Requirement already satisfied, skipping upgrade: packaging in /usr/local/lib/python3.7/dist-packages (from transformers<5.0.0,>=3.1.0->sentence-transformers) (20.9)\n",
            "Requirement already satisfied, skipping upgrade: sacremoses in /usr/local/lib/python3.7/dist-packages (from transformers<5.0.0,>=3.1.0->sentence-transformers) (0.0.45)\n",
            "Requirement already satisfied, skipping upgrade: filelock in /usr/local/lib/python3.7/dist-packages (from transformers<5.0.0,>=3.1.0->sentence-transformers) (3.0.12)\n",
            "Requirement already satisfied, skipping upgrade: importlib-metadata; python_version < \"3.8\" in /usr/local/lib/python3.7/dist-packages (from transformers<5.0.0,>=3.1.0->sentence-transformers) (3.10.1)\n",
            "Requirement already satisfied, skipping upgrade: tokenizers<0.11,>=0.10.1 in /usr/local/lib/python3.7/dist-packages (from transformers<5.0.0,>=3.1.0->sentence-transformers) (0.10.2)\n",
            "Requirement already satisfied, skipping upgrade: regex!=2019.12.17 in /usr/local/lib/python3.7/dist-packages (from transformers<5.0.0,>=3.1.0->sentence-transformers) (2019.12.20)\n",
            "Requirement already satisfied, skipping upgrade: joblib>=0.11 in /usr/local/lib/python3.7/dist-packages (from scikit-learn->sentence-transformers) (1.0.1)\n",
            "Requirement already satisfied, skipping upgrade: six in /usr/local/lib/python3.7/dist-packages (from nltk->sentence-transformers) (1.15.0)\n",
            "Requirement already satisfied, skipping upgrade: typing-extensions in /usr/local/lib/python3.7/dist-packages (from torch>=1.6.0->sentence-transformers) (3.7.4.3)\n",
            "Requirement already satisfied, skipping upgrade: certifi>=2017.4.17 in /usr/local/lib/python3.7/dist-packages (from requests->transformers<5.0.0,>=3.1.0->sentence-transformers) (2020.12.5)\n",
            "Requirement already satisfied, skipping upgrade: idna<3,>=2.5 in /usr/local/lib/python3.7/dist-packages (from requests->transformers<5.0.0,>=3.1.0->sentence-transformers) (2.10)\n",
            "Requirement already satisfied, skipping upgrade: chardet<4,>=3.0.2 in /usr/local/lib/python3.7/dist-packages (from requests->transformers<5.0.0,>=3.1.0->sentence-transformers) (3.0.4)\n",
            "Requirement already satisfied, skipping upgrade: urllib3!=1.25.0,!=1.25.1,<1.26,>=1.21.1 in /usr/local/lib/python3.7/dist-packages (from requests->transformers<5.0.0,>=3.1.0->sentence-transformers) (1.24.3)\n",
            "Requirement already satisfied, skipping upgrade: pyparsing>=2.0.2 in /usr/local/lib/python3.7/dist-packages (from packaging->transformers<5.0.0,>=3.1.0->sentence-transformers) (2.4.7)\n",
            "Requirement already satisfied, skipping upgrade: click in /usr/local/lib/python3.7/dist-packages (from sacremoses->transformers<5.0.0,>=3.1.0->sentence-transformers) (7.1.2)\n",
            "Requirement already satisfied, skipping upgrade: zipp>=0.5 in /usr/local/lib/python3.7/dist-packages (from importlib-metadata; python_version < \"3.8\"->transformers<5.0.0,>=3.1.0->sentence-transformers) (3.4.1)\n",
            "fatal: destination path 'transformers' already exists and is not an empty directory.\n"
          ],
          "name": "stdout"
        }
      ]
    },
    {
      "cell_type": "markdown",
      "metadata": {
        "id": "J5NjuHYjd-Yt"
      },
      "source": [
        "# **Data Retrieval & Initial Sanitisation**"
      ]
    },
    {
      "cell_type": "code",
      "metadata": {
        "colab": {
          "base_uri": "https://localhost:8080/"
        },
        "id": "1mm6pnTAKfP2",
        "outputId": "82447572-f873-4ee2-a420-9b40d22d85ca"
      },
      "source": [
        "import requests\n",
        "import pandas as pd\n",
        "\n",
        "\"\"\" makes API get requests for every GitHub Issues post and\n",
        "creates a list of dictionaries with id, html_url, title and body\n",
        "to conveniently retrieve necessary data and allow to point at \n",
        "each post \"\"\"\n",
        "\n",
        "page_no = 1\n",
        "all_data = []\n",
        "while True:\n",
        "  url = 'https://api.github.com/repos/galasa-dev/projectmanagement/issues?state=all&per_page=100&page=' + str(page_no)\n",
        "  print(url)\n",
        "  res = requests.get(url)\n",
        "  for each in res.json():\n",
        "    entry = {\"id\" : each[\"id\"], \"html_url\" : each[\"html_url\"], \"title\" : each[\"title\"], \"body\" : each[\"body\"]}\n",
        "    all_data.append(entry)\n",
        "  \n",
        "  page_no += 1\n",
        "\n",
        "  if len(res.json()) == 0:\n",
        "    break"
      ],
      "execution_count": null,
      "outputs": [
        {
          "output_type": "stream",
          "text": [
            "https://api.github.com/repos/galasa-dev/projectmanagement/issues?state=all&per_page=100&page=1\n",
            "https://api.github.com/repos/galasa-dev/projectmanagement/issues?state=all&per_page=100&page=2\n",
            "https://api.github.com/repos/galasa-dev/projectmanagement/issues?state=all&per_page=100&page=3\n",
            "https://api.github.com/repos/galasa-dev/projectmanagement/issues?state=all&per_page=100&page=4\n",
            "https://api.github.com/repos/galasa-dev/projectmanagement/issues?state=all&per_page=100&page=5\n",
            "https://api.github.com/repos/galasa-dev/projectmanagement/issues?state=all&per_page=100&page=6\n",
            "https://api.github.com/repos/galasa-dev/projectmanagement/issues?state=all&per_page=100&page=7\n",
            "https://api.github.com/repos/galasa-dev/projectmanagement/issues?state=all&per_page=100&page=8\n"
          ],
          "name": "stdout"
        }
      ]
    },
    {
      "cell_type": "markdown",
      "metadata": {
        "id": "UhO0A-odmfyc"
      },
      "source": [
        "**DataFrame Conversion & Duplicate Handling**"
      ]
    },
    {
      "cell_type": "code",
      "metadata": {
        "colab": {
          "base_uri": "https://localhost:8080/"
        },
        "id": "qVanoqhCiJVi",
        "outputId": "42956122-c4f0-4194-e471-b4ddd0e43e71"
      },
      "source": [
        "test_data_frame = pd.DataFrame(all_data)\n",
        "test_data_frame.drop_duplicates(['body','title'], inplace=True)\n",
        "\n",
        "test_data_frame['title'].describe(include='all')"
      ],
      "execution_count": null,
      "outputs": [
        {
          "output_type": "execute_result",
          "data": {
            "text/plain": [
              "count                669\n",
              "unique               667\n",
              "top       Hamburger menu\n",
              "freq                   2\n",
              "Name: title, dtype: object"
            ]
          },
          "metadata": {
            "tags": []
          },
          "execution_count": 18
        }
      ]
    },
    {
      "cell_type": "code",
      "metadata": {
        "colab": {
          "base_uri": "https://localhost:8080/"
        },
        "id": "Ic8Ia4Hqnn-0",
        "outputId": "102422b5-183d-41e2-ab00-4cc2e3190301"
      },
      "source": [
        "test_data_frame['body'].describe(include='all')"
      ],
      "execution_count": null,
      "outputs": [
        {
          "output_type": "execute_result",
          "data": {
            "text/plain": [
              "count     669\n",
              "unique    590\n",
              "top          \n",
              "freq       77\n",
              "Name: body, dtype: object"
            ]
          },
          "metadata": {
            "tags": []
          },
          "execution_count": 19
        }
      ]
    },
    {
      "cell_type": "markdown",
      "metadata": {
        "id": "DqRzLFBqn7e0"
      },
      "source": [
        "**Data Inspection**"
      ]
    },
    {
      "cell_type": "code",
      "metadata": {
        "colab": {
          "base_uri": "https://localhost:8080/"
        },
        "id": "s1u6bCYCn1fA",
        "outputId": "06aac338-b009-4b13-82ac-40c9944199ae"
      },
      "source": [
        "test_data_frame.head(15)"
      ],
      "execution_count": null,
      "outputs": [
        {
          "output_type": "execute_result",
          "data": {
            "text/html": [
              "<div>\n",
              "<style scoped>\n",
              "    .dataframe tbody tr th:only-of-type {\n",
              "        vertical-align: middle;\n",
              "    }\n",
              "\n",
              "    .dataframe tbody tr th {\n",
              "        vertical-align: top;\n",
              "    }\n",
              "\n",
              "    .dataframe thead th {\n",
              "        text-align: right;\n",
              "    }\n",
              "</style>\n",
              "<table border=\"1\" class=\"dataframe\">\n",
              "  <thead>\n",
              "    <tr style=\"text-align: right;\">\n",
              "      <th></th>\n",
              "      <th>id</th>\n",
              "      <th>html_url</th>\n",
              "      <th>title</th>\n",
              "      <th>body</th>\n",
              "    </tr>\n",
              "  </thead>\n",
              "  <tbody>\n",
              "    <tr>\n",
              "      <th>0</th>\n",
              "      <td>867721516</td>\n",
              "      <td>https://github.com/galasa-dev/projectmanagemen...</td>\n",
              "      <td>Tests with DFHMOLS reports may fail due to MAN...</td>\n",
              "      <td>Most Galasa tests run reliably as they use dat...</td>\n",
              "    </tr>\n",
              "    <tr>\n",
              "      <th>1</th>\n",
              "      <td>862763282</td>\n",
              "      <td>https://github.com/galasa-dev/projectmanagemen...</td>\n",
              "      <td>Display Worklist items in toolbar using Workli...</td>\n",
              "      <td>Create an injectable angular service called Wo...</td>\n",
              "    </tr>\n",
              "    <tr>\n",
              "      <th>2</th>\n",
              "      <td>862752686</td>\n",
              "      <td>https://github.com/galasa-dev/projectmanagemen...</td>\n",
              "      <td>Setting multiple test history filters causes m...</td>\n",
              "      <td>If you set a start date filter to be a month a...</td>\n",
              "    </tr>\n",
              "    <tr>\n",
              "      <th>3</th>\n",
              "      <td>862745683</td>\n",
              "      <td>https://github.com/galasa-dev/projectmanagemen...</td>\n",
              "      <td>Test history page does not set the filters wit...</td>\n",
              "      <td>On the test history page,  the filter boxes se...</td>\n",
              "    </tr>\n",
              "    <tr>\n",
              "      <th>4</th>\n",
              "      <td>859745217</td>\n",
              "      <td>https://github.com/galasa-dev/projectmanagemen...</td>\n",
              "      <td>Specify and use local image repository in the ...</td>\n",
              "      <td>When creating a Galasa Ecosystem there is a pr...</td>\n",
              "    </tr>\n",
              "    <tr>\n",
              "      <th>5</th>\n",
              "      <td>858985853</td>\n",
              "      <td>https://github.com/galasa-dev/projectmanagemen...</td>\n",
              "      <td>Docker resource management is NPEing</td>\n",
              "      <td>15/04/2021 15:14:44.570 ERROR pool-6-thread-4 ...</td>\n",
              "    </tr>\n",
              "    <tr>\n",
              "      <th>6</th>\n",
              "      <td>858832104</td>\n",
              "      <td>https://github.com/galasa-dev/projectmanagemen...</td>\n",
              "      <td>Issue with coreManager.registerConfidentialTex...</td>\n",
              "      <td>coreManager.registerConfidentialText is allowi...</td>\n",
              "    </tr>\n",
              "    <tr>\n",
              "      <th>7</th>\n",
              "      <td>858050354</td>\n",
              "      <td>https://github.com/galasa-dev/projectmanagemen...</td>\n",
              "      <td>Issue with new line character with streamAsStr...</td>\n",
              "      <td>streamAsString is adding a new line character ...</td>\n",
              "    </tr>\n",
              "    <tr>\n",
              "      <th>8</th>\n",
              "      <td>857788147</td>\n",
              "      <td>https://github.com/galasa-dev/projectmanagemen...</td>\n",
              "      <td>GVT Assessment</td>\n",
              "      <td></td>\n",
              "    </tr>\n",
              "    <tr>\n",
              "      <th>9</th>\n",
              "      <td>857788091</td>\n",
              "      <td>https://github.com/galasa-dev/projectmanagemen...</td>\n",
              "      <td>AVT Assessment</td>\n",
              "      <td></td>\n",
              "    </tr>\n",
              "    <tr>\n",
              "      <th>10</th>\n",
              "      <td>857787665</td>\n",
              "      <td>https://github.com/galasa-dev/projectmanagemen...</td>\n",
              "      <td>AVT &amp; GVT Assessment</td>\n",
              "      <td></td>\n",
              "    </tr>\n",
              "    <tr>\n",
              "      <th>11</th>\n",
              "      <td>857747048</td>\n",
              "      <td>https://github.com/galasa-dev/projectmanagemen...</td>\n",
              "      <td>AVT GVT Assessment</td>\n",
              "      <td></td>\n",
              "    </tr>\n",
              "    <tr>\n",
              "      <th>12</th>\n",
              "      <td>857715959</td>\n",
              "      <td>https://github.com/galasa-dev/projectmanagemen...</td>\n",
              "      <td>Provide worklist functionality to the WebUI</td>\n",
              "      <td>Provide the necessary functionality to the Web...</td>\n",
              "    </tr>\n",
              "    <tr>\n",
              "      <th>13</th>\n",
              "      <td>857592322</td>\n",
              "      <td>https://github.com/galasa-dev/projectmanagemen...</td>\n",
              "      <td>Test the MVP Galasa Distribution and documenta...</td>\n",
              "      <td>Manually test the MVP Galasa Distribution and ...</td>\n",
              "    </tr>\n",
              "    <tr>\n",
              "      <th>14</th>\n",
              "      <td>857591120</td>\n",
              "      <td>https://github.com/galasa-dev/projectmanagemen...</td>\n",
              "      <td>Produce standalone version of the galasa.dev d...</td>\n",
              "      <td>For the closed network solutions we need stand...</td>\n",
              "    </tr>\n",
              "  </tbody>\n",
              "</table>\n",
              "</div>"
            ],
            "text/plain": [
              "           id  ...                                               body\n",
              "0   867721516  ...  Most Galasa tests run reliably as they use dat...\n",
              "1   862763282  ...  Create an injectable angular service called Wo...\n",
              "2   862752686  ...  If you set a start date filter to be a month a...\n",
              "3   862745683  ...  On the test history page,  the filter boxes se...\n",
              "4   859745217  ...  When creating a Galasa Ecosystem there is a pr...\n",
              "5   858985853  ...  15/04/2021 15:14:44.570 ERROR pool-6-thread-4 ...\n",
              "6   858832104  ...  coreManager.registerConfidentialText is allowi...\n",
              "7   858050354  ...  streamAsString is adding a new line character ...\n",
              "8   857788147  ...                                                   \n",
              "9   857788091  ...                                                   \n",
              "10  857787665  ...                                                   \n",
              "11  857747048  ...                                                   \n",
              "12  857715959  ...  Provide the necessary functionality to the Web...\n",
              "13  857592322  ...  Manually test the MVP Galasa Distribution and ...\n",
              "14  857591120  ...  For the closed network solutions we need stand...\n",
              "\n",
              "[15 rows x 4 columns]"
            ]
          },
          "metadata": {
            "tags": []
          },
          "execution_count": 20
        }
      ]
    },
    {
      "cell_type": "code",
      "metadata": {
        "colab": {
          "base_uri": "https://localhost:8080/"
        },
        "id": "8RfXWJ3coAEi",
        "outputId": "5bf3ac6f-79da-49ed-8752-e6fc38cf6919"
      },
      "source": [
        "test_data_frame.describe()"
      ],
      "execution_count": null,
      "outputs": [
        {
          "output_type": "execute_result",
          "data": {
            "text/html": [
              "<div>\n",
              "<style scoped>\n",
              "    .dataframe tbody tr th:only-of-type {\n",
              "        vertical-align: middle;\n",
              "    }\n",
              "\n",
              "    .dataframe tbody tr th {\n",
              "        vertical-align: top;\n",
              "    }\n",
              "\n",
              "    .dataframe thead th {\n",
              "        text-align: right;\n",
              "    }\n",
              "</style>\n",
              "<table border=\"1\" class=\"dataframe\">\n",
              "  <thead>\n",
              "    <tr style=\"text-align: right;\">\n",
              "      <th></th>\n",
              "      <th>id</th>\n",
              "    </tr>\n",
              "  </thead>\n",
              "  <tbody>\n",
              "    <tr>\n",
              "      <th>count</th>\n",
              "      <td>6.690000e+02</td>\n",
              "    </tr>\n",
              "    <tr>\n",
              "      <th>mean</th>\n",
              "      <td>6.726019e+08</td>\n",
              "    </tr>\n",
              "    <tr>\n",
              "      <th>std</th>\n",
              "      <td>9.957637e+07</td>\n",
              "    </tr>\n",
              "    <tr>\n",
              "      <th>min</th>\n",
              "      <td>5.193638e+08</td>\n",
              "    </tr>\n",
              "    <tr>\n",
              "      <th>25%</th>\n",
              "      <td>6.010150e+08</td>\n",
              "    </tr>\n",
              "    <tr>\n",
              "      <th>50%</th>\n",
              "      <td>6.456449e+08</td>\n",
              "    </tr>\n",
              "    <tr>\n",
              "      <th>75%</th>\n",
              "      <td>7.446883e+08</td>\n",
              "    </tr>\n",
              "    <tr>\n",
              "      <th>max</th>\n",
              "      <td>8.677215e+08</td>\n",
              "    </tr>\n",
              "  </tbody>\n",
              "</table>\n",
              "</div>"
            ],
            "text/plain": [
              "                 id\n",
              "count  6.690000e+02\n",
              "mean   6.726019e+08\n",
              "std    9.957637e+07\n",
              "min    5.193638e+08\n",
              "25%    6.010150e+08\n",
              "50%    6.456449e+08\n",
              "75%    7.446883e+08\n",
              "max    8.677215e+08"
            ]
          },
          "metadata": {
            "tags": []
          },
          "execution_count": 21
        }
      ]
    },
    {
      "cell_type": "code",
      "metadata": {
        "colab": {
          "base_uri": "https://localhost:8080/"
        },
        "id": "-vsgdXunog1Y",
        "outputId": "e3d85731-c423-4971-eda6-159d2fe484fa"
      },
      "source": [
        "test_data_frame.dropna(inplace=True)\n",
        "test_data_frame.info()"
      ],
      "execution_count": null,
      "outputs": [
        {
          "output_type": "stream",
          "text": [
            "<class 'pandas.core.frame.DataFrame'>\n",
            "Int64Index: 669 entries, 0 to 668\n",
            "Data columns (total 4 columns):\n",
            " #   Column    Non-Null Count  Dtype \n",
            "---  ------    --------------  ----- \n",
            " 0   id        669 non-null    int64 \n",
            " 1   html_url  669 non-null    object\n",
            " 2   title     669 non-null    object\n",
            " 3   body      669 non-null    object\n",
            "dtypes: int64(1), object(3)\n",
            "memory usage: 26.1+ KB\n"
          ],
          "name": "stdout"
        }
      ]
    },
    {
      "cell_type": "code",
      "metadata": {
        "colab": {
          "base_uri": "https://localhost:8080/"
        },
        "id": "B0NWEL2Zoy3d",
        "outputId": "a8ae94f7-f381-4fc4-e5ce-f9fb3a006fec"
      },
      "source": [
        "# checking the first fifteen entries\n",
        "test_data_frame.head(10)"
      ],
      "execution_count": null,
      "outputs": [
        {
          "output_type": "execute_result",
          "data": {
            "text/html": [
              "<div>\n",
              "<style scoped>\n",
              "    .dataframe tbody tr th:only-of-type {\n",
              "        vertical-align: middle;\n",
              "    }\n",
              "\n",
              "    .dataframe tbody tr th {\n",
              "        vertical-align: top;\n",
              "    }\n",
              "\n",
              "    .dataframe thead th {\n",
              "        text-align: right;\n",
              "    }\n",
              "</style>\n",
              "<table border=\"1\" class=\"dataframe\">\n",
              "  <thead>\n",
              "    <tr style=\"text-align: right;\">\n",
              "      <th></th>\n",
              "      <th>id</th>\n",
              "      <th>html_url</th>\n",
              "      <th>title</th>\n",
              "      <th>body</th>\n",
              "    </tr>\n",
              "  </thead>\n",
              "  <tbody>\n",
              "    <tr>\n",
              "      <th>0</th>\n",
              "      <td>867721516</td>\n",
              "      <td>https://github.com/galasa-dev/projectmanagemen...</td>\n",
              "      <td>Tests with DFHMOLS reports may fail due to MAN...</td>\n",
              "      <td>Most Galasa tests run reliably as they use dat...</td>\n",
              "    </tr>\n",
              "    <tr>\n",
              "      <th>1</th>\n",
              "      <td>862763282</td>\n",
              "      <td>https://github.com/galasa-dev/projectmanagemen...</td>\n",
              "      <td>Display Worklist items in toolbar using Workli...</td>\n",
              "      <td>Create an injectable angular service called Wo...</td>\n",
              "    </tr>\n",
              "    <tr>\n",
              "      <th>2</th>\n",
              "      <td>862752686</td>\n",
              "      <td>https://github.com/galasa-dev/projectmanagemen...</td>\n",
              "      <td>Setting multiple test history filters causes m...</td>\n",
              "      <td>If you set a start date filter to be a month a...</td>\n",
              "    </tr>\n",
              "    <tr>\n",
              "      <th>3</th>\n",
              "      <td>862745683</td>\n",
              "      <td>https://github.com/galasa-dev/projectmanagemen...</td>\n",
              "      <td>Test history page does not set the filters wit...</td>\n",
              "      <td>On the test history page,  the filter boxes se...</td>\n",
              "    </tr>\n",
              "    <tr>\n",
              "      <th>4</th>\n",
              "      <td>859745217</td>\n",
              "      <td>https://github.com/galasa-dev/projectmanagemen...</td>\n",
              "      <td>Specify and use local image repository in the ...</td>\n",
              "      <td>When creating a Galasa Ecosystem there is a pr...</td>\n",
              "    </tr>\n",
              "    <tr>\n",
              "      <th>5</th>\n",
              "      <td>858985853</td>\n",
              "      <td>https://github.com/galasa-dev/projectmanagemen...</td>\n",
              "      <td>Docker resource management is NPEing</td>\n",
              "      <td>15/04/2021 15:14:44.570 ERROR pool-6-thread-4 ...</td>\n",
              "    </tr>\n",
              "    <tr>\n",
              "      <th>6</th>\n",
              "      <td>858832104</td>\n",
              "      <td>https://github.com/galasa-dev/projectmanagemen...</td>\n",
              "      <td>Issue with coreManager.registerConfidentialTex...</td>\n",
              "      <td>coreManager.registerConfidentialText is allowi...</td>\n",
              "    </tr>\n",
              "    <tr>\n",
              "      <th>7</th>\n",
              "      <td>858050354</td>\n",
              "      <td>https://github.com/galasa-dev/projectmanagemen...</td>\n",
              "      <td>Issue with new line character with streamAsStr...</td>\n",
              "      <td>streamAsString is adding a new line character ...</td>\n",
              "    </tr>\n",
              "    <tr>\n",
              "      <th>8</th>\n",
              "      <td>857788147</td>\n",
              "      <td>https://github.com/galasa-dev/projectmanagemen...</td>\n",
              "      <td>GVT Assessment</td>\n",
              "      <td></td>\n",
              "    </tr>\n",
              "    <tr>\n",
              "      <th>9</th>\n",
              "      <td>857788091</td>\n",
              "      <td>https://github.com/galasa-dev/projectmanagemen...</td>\n",
              "      <td>AVT Assessment</td>\n",
              "      <td></td>\n",
              "    </tr>\n",
              "  </tbody>\n",
              "</table>\n",
              "</div>"
            ],
            "text/plain": [
              "          id  ...                                               body\n",
              "0  867721516  ...  Most Galasa tests run reliably as they use dat...\n",
              "1  862763282  ...  Create an injectable angular service called Wo...\n",
              "2  862752686  ...  If you set a start date filter to be a month a...\n",
              "3  862745683  ...  On the test history page,  the filter boxes se...\n",
              "4  859745217  ...  When creating a Galasa Ecosystem there is a pr...\n",
              "5  858985853  ...  15/04/2021 15:14:44.570 ERROR pool-6-thread-4 ...\n",
              "6  858832104  ...  coreManager.registerConfidentialText is allowi...\n",
              "7  858050354  ...  streamAsString is adding a new line character ...\n",
              "8  857788147  ...                                                   \n",
              "9  857788091  ...                                                   \n",
              "\n",
              "[10 rows x 4 columns]"
            ]
          },
          "metadata": {
            "tags": []
          },
          "execution_count": 23
        }
      ]
    },
    {
      "cell_type": "markdown",
      "metadata": {
        "id": "9OipbqhvoYAB"
      },
      "source": [
        "**Initial Sanitisation & Processing**"
      ]
    },
    {
      "cell_type": "code",
      "metadata": {
        "colab": {
          "base_uri": "https://localhost:8080/"
        },
        "id": "_eld__pWhVNN",
        "outputId": "a54887c3-0d0e-4516-d860-e7563da92eca"
      },
      "source": [
        "# add body of every post to single txt file\n",
        "list_titlebody_sentences = []\n",
        "for each in all_data:\n",
        "  compact_version_title = each[\"title\"].replace(\"\\n\",\"\")\n",
        "  compact_version_body = each[\"body\"].replace(\"\\n\",\"\").replace(\"\\r\",\" \").replace(\"  \", \" \")\n",
        "  list_titlebody_sentences.append(compact_version_title + \". \" + compact_version_body)\n",
        "\n",
        "print(len(list_titlebody_sentences))\n",
        "\n",
        "#process data to file\n",
        "file_content = \"\\n\".join(list_titlebody_sentences)\n",
        "with open(\"input_text.txt\",\"w\") as f:\n",
        "    f.write(file_content)"
      ],
      "execution_count": null,
      "outputs": [
        {
          "output_type": "stream",
          "text": [
            "669\n"
          ],
          "name": "stdout"
        }
      ]
    },
    {
      "cell_type": "markdown",
      "metadata": {
        "id": "vOUW4_QDuxRF"
      },
      "source": [
        "# **Extractive Summarisation**"
      ]
    },
    {
      "cell_type": "code",
      "metadata": {
        "id": "mN4-e11Muxnf"
      },
      "source": [
        "!pip install bert-extractive-summarizer spacy transformers neuralcoref sentencepiece\n",
        "!python -m spacy download en_core_web_md\n",
        "from summarizer import Summarizer\n",
        "from summarizer.coreference_handler import CoreferenceHandler"
      ],
      "execution_count": null,
      "outputs": []
    },
    {
      "cell_type": "code",
      "metadata": {
        "id": "ybRoDyTRLJD5"
      },
      "source": [
        "model = Summarizer()"
      ],
      "execution_count": null,
      "outputs": []
    },
    {
      "cell_type": "code",
      "metadata": {
        "id": "_KhkV3wUv0a8"
      },
      "source": [
        "import pprint\n",
        "body = list_titlebody_sentences[212]\n",
        "result = model(body, min_length=60)\n",
        "full = ''.join(result)\n",
        "\n",
        "pp = pprint.PrettyPrinter(indent=4)\n",
        "\n",
        "print(\"\\n==========================ORIGINAL==============================\\n\")\n",
        "pp.pprint(body)\n",
        "\n",
        "print(\"\\n==========================SUMMARY==============================\\n\")\n",
        "pp.pprint(full)"
      ],
      "execution_count": null,
      "outputs": []
    },
    {
      "cell_type": "markdown",
      "metadata": {
        "id": "h9cUKuxO-fJK"
      },
      "source": [
        "# **SEMANTIC SEARCH USING BERT**"
      ]
    },
    {
      "cell_type": "code",
      "metadata": {
        "colab": {
          "base_uri": "https://localhost:8080/"
        },
        "id": "D8wW98KQ-rm2",
        "outputId": "b13fc962-7751-4501-f3ee-768828104e66"
      },
      "source": [
        "!python \"/content/transformers/examples/legacy/run_language_modeling.py\" \\\n",
        "    --output_dir=\"/content/drive/My Drive/BERT_Similarity/Fine_Tuned_BERT\" \\\n",
        "    --overwrite_output_dir \\\n",
        "    --model_type=bert \\\n",
        "    --model_name_or_path=google/bert_uncased_L-2_H-128_A-2 \\\n",
        "    --do_train \\\n",
        "    --block_size=512 \\\n",
        "    --train_data_file=\"/content/input_text.txt\" \\\n",
        "    --mlm\n",
        "\n",
        "\n",
        "# embd = SentenceTransformer('bert-base-nli-max-tokens')\n",
        "\n",
        "#https://github.com/UKPLab/sentence-transformers/blob/master/examples/application_semantic_search.py\n",
        "# https://colab.research.google.com/github/theamrzaki/COVID-19-BERT-ResearchPapers-Semantic-Search/blob/master/COVID_19_BERT_ResearchPapers_Semantic_Search.ipynb#scrollTo=sFVjsMb8xPkD\n"
      ],
      "execution_count": null,
      "outputs": [
        {
          "output_type": "stream",
          "text": [
            "2021-04-26 21:01:10.320963: I tensorflow/stream_executor/platform/default/dso_loader.cc:49] Successfully opened dynamic library libcudart.so.11.0\n",
            "04/26/2021 21:01:11 - WARNING - __main__ -   Process rank: -1, device: cuda:0, n_gpu: 1, distributed training: False, 16-bits training: False\n",
            "04/26/2021 21:01:11 - INFO - __main__ -   Training/evaluation parameters TrainingArguments(output_dir=/content/drive/My Drive/BERT_Similarity/Fine_Tuned_BERT, overwrite_output_dir=True, do_train=True, do_eval=None, do_predict=False, evaluation_strategy=IntervalStrategy.NO, prediction_loss_only=False, per_device_train_batch_size=8, per_device_eval_batch_size=8, gradient_accumulation_steps=1, eval_accumulation_steps=None, learning_rate=5e-05, weight_decay=0.0, adam_beta1=0.9, adam_beta2=0.999, adam_epsilon=1e-08, max_grad_norm=1.0, num_train_epochs=3.0, max_steps=-1, lr_scheduler_type=SchedulerType.LINEAR, warmup_ratio=0.0, warmup_steps=0, logging_dir=runs/Apr26_21-01-11_5a28ac5c7d27, logging_strategy=IntervalStrategy.STEPS, logging_first_step=False, logging_steps=500, save_strategy=IntervalStrategy.STEPS, save_steps=500, save_total_limit=None, no_cuda=False, seed=42, fp16=False, fp16_opt_level=O1, fp16_backend=auto, fp16_full_eval=False, local_rank=-1, tpu_num_cores=None, tpu_metrics_debug=False, debug=False, dataloader_drop_last=False, eval_steps=500, dataloader_num_workers=0, past_index=-1, run_name=/content/drive/My Drive/BERT_Similarity/Fine_Tuned_BERT, disable_tqdm=False, remove_unused_columns=True, label_names=None, load_best_model_at_end=False, metric_for_best_model=None, greater_is_better=None, ignore_data_skip=False, sharded_ddp=[], deepspeed=None, label_smoothing_factor=0.0, adafactor=False, group_by_length=False, length_column_name=length, report_to=['tensorboard'], ddp_find_unused_parameters=None, dataloader_pin_memory=True, skip_memory_metrics=False, _n_gpu=1, mp_parameters=)\n",
            "[INFO|configuration_utils.py:491] 2021-04-26 21:01:11,720 >> loading configuration file https://huggingface.co/google/bert_uncased_L-2_H-128_A-2/resolve/main/config.json from cache at /root/.cache/huggingface/transformers/267e014e0691a01eec80d89bb2425a3d308d8cecfb1d6e87be0dc333713851b6.f7c0b2bc8a921bf36b061a6a20c9b520a23fb3f3cd8d356d1501424870e750a8\n",
            "[INFO|configuration_utils.py:527] 2021-04-26 21:01:11,720 >> Model config BertConfig {\n",
            "  \"attention_probs_dropout_prob\": 0.1,\n",
            "  \"gradient_checkpointing\": false,\n",
            "  \"hidden_act\": \"gelu\",\n",
            "  \"hidden_dropout_prob\": 0.1,\n",
            "  \"hidden_size\": 128,\n",
            "  \"initializer_range\": 0.02,\n",
            "  \"intermediate_size\": 512,\n",
            "  \"layer_norm_eps\": 1e-12,\n",
            "  \"max_position_embeddings\": 512,\n",
            "  \"model_type\": \"bert\",\n",
            "  \"num_attention_heads\": 2,\n",
            "  \"num_hidden_layers\": 2,\n",
            "  \"pad_token_id\": 0,\n",
            "  \"position_embedding_type\": \"absolute\",\n",
            "  \"transformers_version\": \"4.5.1\",\n",
            "  \"type_vocab_size\": 2,\n",
            "  \"use_cache\": true,\n",
            "  \"vocab_size\": 30522\n",
            "}\n",
            "\n",
            "[INFO|configuration_utils.py:491] 2021-04-26 21:01:11,923 >> loading configuration file https://huggingface.co/google/bert_uncased_L-2_H-128_A-2/resolve/main/config.json from cache at /root/.cache/huggingface/transformers/267e014e0691a01eec80d89bb2425a3d308d8cecfb1d6e87be0dc333713851b6.f7c0b2bc8a921bf36b061a6a20c9b520a23fb3f3cd8d356d1501424870e750a8\n",
            "[INFO|configuration_utils.py:527] 2021-04-26 21:01:11,924 >> Model config BertConfig {\n",
            "  \"attention_probs_dropout_prob\": 0.1,\n",
            "  \"gradient_checkpointing\": false,\n",
            "  \"hidden_act\": \"gelu\",\n",
            "  \"hidden_dropout_prob\": 0.1,\n",
            "  \"hidden_size\": 128,\n",
            "  \"initializer_range\": 0.02,\n",
            "  \"intermediate_size\": 512,\n",
            "  \"layer_norm_eps\": 1e-12,\n",
            "  \"max_position_embeddings\": 512,\n",
            "  \"model_type\": \"bert\",\n",
            "  \"num_attention_heads\": 2,\n",
            "  \"num_hidden_layers\": 2,\n",
            "  \"pad_token_id\": 0,\n",
            "  \"position_embedding_type\": \"absolute\",\n",
            "  \"transformers_version\": \"4.5.1\",\n",
            "  \"type_vocab_size\": 2,\n",
            "  \"use_cache\": true,\n",
            "  \"vocab_size\": 30522\n",
            "}\n",
            "\n",
            "[INFO|tokenization_utils_base.py:1707] 2021-04-26 21:01:12,969 >> loading file https://huggingface.co/google/bert_uncased_L-2_H-128_A-2/resolve/main/vocab.txt from cache at /root/.cache/huggingface/transformers/ae380908d995c42fb737d4224ce3c5ff2fa4c9ea645510f07ed1b65d2b7a61ba.d789d64ebfe299b0e416afc4a169632f903f693095b4629a7ea271d5a0cf2c99\n",
            "[INFO|tokenization_utils_base.py:1707] 2021-04-26 21:01:12,969 >> loading file https://huggingface.co/google/bert_uncased_L-2_H-128_A-2/resolve/main/tokenizer.json from cache at None\n",
            "[INFO|tokenization_utils_base.py:1707] 2021-04-26 21:01:12,969 >> loading file https://huggingface.co/google/bert_uncased_L-2_H-128_A-2/resolve/main/added_tokens.json from cache at None\n",
            "[INFO|tokenization_utils_base.py:1707] 2021-04-26 21:01:12,969 >> loading file https://huggingface.co/google/bert_uncased_L-2_H-128_A-2/resolve/main/special_tokens_map.json from cache at None\n",
            "[INFO|tokenization_utils_base.py:1707] 2021-04-26 21:01:12,969 >> loading file https://huggingface.co/google/bert_uncased_L-2_H-128_A-2/resolve/main/tokenizer_config.json from cache at None\n",
            "/usr/local/lib/python3.7/dist-packages/transformers/models/auto/modeling_auto.py:762: FutureWarning: The class `AutoModelWithLMHead` is deprecated and will be removed in a future version. Please use `AutoModelForCausalLM` for causal language models, `AutoModelForMaskedLM` for masked language models and `AutoModelForSeq2SeqLM` for encoder-decoder models.\n",
            "  FutureWarning,\n",
            "[INFO|modeling_utils.py:1052] 2021-04-26 21:01:13,218 >> loading weights file https://huggingface.co/google/bert_uncased_L-2_H-128_A-2/resolve/main/pytorch_model.bin from cache at /root/.cache/huggingface/transformers/dda68f403046cbaa7f1314af6c12d9bada21763b4eb19736e67848fc06866e42.7403e6b557aa7a336c7fe70b39767fd8466a1ef0abefa50da785ab461983f35b\n",
            "[WARNING|modeling_utils.py:1160] 2021-04-26 21:01:13,428 >> Some weights of the model checkpoint at google/bert_uncased_L-2_H-128_A-2 were not used when initializing BertForMaskedLM: ['cls.seq_relationship.weight', 'cls.seq_relationship.bias']\n",
            "- This IS expected if you are initializing BertForMaskedLM from the checkpoint of a model trained on another task or with another architecture (e.g. initializing a BertForSequenceClassification model from a BertForPreTraining model).\n",
            "- This IS NOT expected if you are initializing BertForMaskedLM from the checkpoint of a model that you expect to be exactly identical (initializing a BertForSequenceClassification model from a BertForSequenceClassification model).\n",
            "[INFO|modeling_utils.py:1177] 2021-04-26 21:01:13,428 >> All the weights of BertForMaskedLM were initialized from the model checkpoint at google/bert_uncased_L-2_H-128_A-2.\n",
            "If your task is similar to the task the model of the checkpoint was trained on, you can already use BertForMaskedLM for predictions without further training.\n",
            "Traceback (most recent call last):\n",
            "  File \"/content/transformers/examples/legacy/run_language_modeling.py\", line 364, in <module>\n",
            "    main()\n",
            "  File \"/content/transformers/examples/legacy/run_language_modeling.py\", line 283, in main\n",
            "    data_args.block_size = min(data_args.block_size, tokenizer.max_len)\n",
            "AttributeError: 'BertTokenizerFast' object has no attribute 'max_len'\n"
          ],
          "name": "stdout"
        }
      ]
    },
    {
      "cell_type": "code",
      "metadata": {
        "colab": {
          "base_uri": "https://localhost:8080/"
        },
        "id": "zlQB6MsaFZON",
        "outputId": "7eef88e0-a70e-4bf4-ba1c-0eeb5f298372"
      },
      "source": [
        "gc.collect()\n",
        "torch.cuda.empty_cache()\n",
        "  \n",
        "word_embedding_model = st.models.Transformer(\"/content/drive/My Drive/BertSentenceSimilarity/BERTfine\")\n",
        "pooling_model = models.Pooling(word_embedding_model.get_word_embedding_dimension(),\n",
        "                               pooling_mode_mean_tokens=True,\n",
        "                               pooling_mode_cls_token=False,\n",
        "                               pooling_mode_max_tokens=True)\n",
        "\n",
        "model = SentenceTransformer(modules=[word_embedding_model, pooling_model])"
      ],
      "execution_count": null,
      "outputs": [
        {
          "output_type": "stream",
          "text": [
            "Some weights of BertModel were not initialized from the model checkpoint at /content/drive/My Drive/BertSentenceSimilarity/BERTfine and are newly initialized: ['bert.pooler.dense.weight', 'bert.pooler.dense.bias']\n",
            "You should probably TRAIN this model on a down-stream task to be able to use it for predictions and inference.\n"
          ],
          "name": "stderr"
        }
      ]
    },
    {
      "cell_type": "code",
      "metadata": {
        "colab": {
          "base_uri": "https://localhost:8080/",
          "height": 115,
          "referenced_widgets": [
            "2f46f6449928470995c8efc63ac24dda",
            "8e2799ba7411459fa43526d71eb33b1a",
            "70169b8e4dcb44489f37c234bf3a0ab4",
            "cc75e9a2ceb646beb53c1b8d16e98f5f",
            "10d92719a7cd4ed3a33d1bf502b474f9",
            "f10690b176b5424c82afb1c8b478abac",
            "9922b5f19d084a5b8897675033dcad29",
            "cf442a48cddd4b3eb9f8ccbb4721ec86",
            "b44af475ee704c12b09e5fa426b71e11",
            "20e77324426546d88fbdf957c264ee58",
            "65f2ce1621ca4a668960893a19228d80",
            "7ef3910986c042b2bb506c0382803f07",
            "69d5e65c300641129bb87a37a44e92bc",
            "ff45bc91a24b4b2a8d342a8969f2f20c",
            "a0ffe21470784d248916ce97c948c616",
            "d4aabc68b0ff42b695aaa42351cf188e"
          ]
        },
        "id": "2_Xo_dyCBwR-",
        "outputId": "7b790e47-dbfd-465b-c4b3-e1c139252cf9"
      },
      "source": [
        "corpus = []\n",
        "for each in list_titlebody_sentences:\n",
        "  if len(each) <= 1484:\n",
        "    corpus.append(each)\n",
        "  else:\n",
        "    corpus.append('')\n",
        "\n",
        "embedded_corpus = model.encode(corpus, show_progress_bar=True)\n",
        "\n",
        "queries = ['Dockerfile docker image',\n",
        "           'Is there a standalone version of the galasa.dev documentation site?',\n",
        "           'Has anyone moved the z/OS 3270 Manager to Beta?']\n",
        "embedded_queries = model.encode(queries, show_progress_bar=True)\n",
        "\n"
      ],
      "execution_count": null,
      "outputs": [
        {
          "output_type": "display_data",
          "data": {
            "application/vnd.jupyter.widget-view+json": {
              "model_id": "2f46f6449928470995c8efc63ac24dda",
              "version_minor": 0,
              "version_major": 2
            },
            "text/plain": [
              "HBox(children=(FloatProgress(value=0.0, description='Batches', max=21.0, style=ProgressStyle(description_width…"
            ]
          },
          "metadata": {
            "tags": []
          }
        },
        {
          "output_type": "stream",
          "text": [
            "\n"
          ],
          "name": "stdout"
        },
        {
          "output_type": "display_data",
          "data": {
            "application/vnd.jupyter.widget-view+json": {
              "model_id": "b44af475ee704c12b09e5fa426b71e11",
              "version_minor": 0,
              "version_major": 2
            },
            "text/plain": [
              "HBox(children=(FloatProgress(value=0.0, description='Batches', max=1.0, style=ProgressStyle(description_width=…"
            ]
          },
          "metadata": {
            "tags": []
          }
        },
        {
          "output_type": "stream",
          "text": [
            "\n"
          ],
          "name": "stdout"
        }
      ]
    },
    {
      "cell_type": "code",
      "metadata": {
        "colab": {
          "base_uri": "https://localhost:8080/",
          "height": 1000
        },
        "id": "Fkk8auxgCXbb",
        "outputId": "87747c42-696f-40e8-8c76-c50ac213e187"
      },
      "source": [
        "closest_n = 5\n",
        "print(\"\\nTOP 5 RELEVANT GITHUB ISSUES POSTS\\n\")\n",
        "\n",
        "for q, q_embed in zip(queries, embedded_queries):\n",
        "    distances = scipy.spatial.distance.cdist([q_embed], embedded_corpus, \"cosine\")[0]\n",
        "    \n",
        "    results = zip(range(len(distances)), distances)\n",
        "    results = sorted(results, key=lambda x: x[1])\n",
        "\n",
        "    print(\"\\nQUERY: \",q)\n",
        "    print(\"=\" * int(1.15 * len(q)),\"\\n\")\n",
        "\n",
        "    for idx, distance in results[0:closest_n]:\n",
        "        print(\"Score:   \", \"(Score: %.4f)\" % (1-distance) , \"\\n\" )\n",
        "        # print(\"Paragraph:   \", corpus[idx].strip(), \"\\n\" )\n",
        "        row_dict = test_data_frame.loc[test_data_frame.index == idx].to_dict()\n",
        "        print(\"Title:  \" , row_dict[\"title\"] , \"\\n\")\n",
        "        print(\"Body:  \" , row_dict[\"body\"] , \"\\n\")\n",
        "        print(\"URL:  \" , row_dict[\"html_url\"] , \"\\n\")\n",
        "        print(\"-\" * int(1.15 * max(len(str(row_dict[\"body\"])),len(str(row_dict[\"title\"])))),\"\\n\")\n",
        "\n",
        "    plt.plot(1 - distances, 'bx')\n",
        "    plt.show()\n",
        "\n"
      ],
      "execution_count": null,
      "outputs": [
        {
          "output_type": "stream",
          "text": [
            "\n",
            "TOP 5 RELEVANT GITHUB ISSUES POSTS\n",
            "\n",
            "\n",
            "QUERY:  Dockerfile docker image\n",
            "========================== \n",
            "\n",
            "Score:    (Score: 0.9379) \n",
            "\n",
            "Title:   {116: 'Implement building the docker image from the Dockerfile'} \n",
            "\n",
            "Body:   {116: ''} \n",
            "\n",
            "URL:   {116: 'https://github.com/galasa-dev/projectmanagement/issues/554'} \n",
            "\n",
            "------------------------------------------------------------------------- \n",
            "\n",
            "Score:    (Score: 0.9040) \n",
            "\n",
            "Title:   {137: 'Implement Docker volumes into the Docker Manager'} \n",
            "\n",
            "Body:   {137: ''} \n",
            "\n",
            "URL:   {137: 'https://github.com/galasa-dev/projectmanagement/issues/533'} \n",
            "\n",
            "----------------------------------------------------------------- \n",
            "\n",
            "Score:    (Score: 0.8826) \n",
            "\n",
            "Title:   {320: 'Enhance Docker Operator for s390x'} \n",
            "\n",
            "Body:   {320: ''} \n",
            "\n",
            "URL:   {320: 'https://github.com/galasa-dev/projectmanagement/issues/350'} \n",
            "\n",
            "------------------------------------------------ \n",
            "\n",
            "Score:    (Score: 0.8764) \n",
            "\n",
            "Title:   {125: 'Implement passing environment variables to docker run in Docker Manager'} \n",
            "\n",
            "Body:   {125: ''} \n",
            "\n",
            "URL:   {125: 'https://github.com/galasa-dev/projectmanagement/issues/545'} \n",
            "\n",
            "-------------------------------------------------------------------------------------------- \n",
            "\n",
            "Score:    (Score: 0.8755) \n",
            "\n",
            "Title:   {95: 'Update Docker operator version documentation'} \n",
            "\n",
            "Body:   {95: ''} \n",
            "\n",
            "URL:   {95: 'https://github.com/galasa-dev/projectmanagement/issues/575'} \n",
            "\n",
            "----------------------------------------------------------- \n",
            "\n"
          ],
          "name": "stdout"
        },
        {
          "output_type": "display_data",
          "data": {
            "image/png": "[encoded data removed]",
            "text/plain": [
              "<Figure size 432x288 with 1 Axes>"
            ]
          },
          "metadata": {
            "tags": [],
            "needs_background": "light"
          }
        },
        {
          "output_type": "stream",
          "text": [
            "\n",
            "QUERY:  Is there a standalone version of the galasa.dev documentation site?\n",
            "============================================================================= \n",
            "\n",
            "Score:    (Score: 0.9157) \n",
            "\n",
            "Title:   {14: 'Produce standalone version of the galasa.dev documentation site'} \n",
            "\n",
            "Body:   {14: 'For the closed network solutions we need standalone versions of the galasa.dev documentation.   Specifically we need:-\\n\\n1. A version that can run from a directory of the laptop,  point the browser at the index.html and all the docs are available\\n2. A docker image running something to present the documentation to the browser from the docker container.'} \n",
            "\n",
            "URL:   {14: 'https://github.com/galasa-dev/projectmanagement/issues/656'} \n",
            "\n",
            "--------------------------------------------------------------------------------------------------------------------------------------------------------------------------------------------------------------------------------------------------------------------------------------------------------------------------------------------------------------------------------------------------------------------------------- \n",
            "\n",
            "Score:    (Score: 0.9048) \n",
            "\n",
            "Title:   {560: 'Make Galasa an Eclipse product so its icon appears on the About Eclipse dialog'} \n",
            "\n",
            "Body:   {560: ''} \n",
            "\n",
            "URL:   {560: 'https://github.com/galasa-dev/projectmanagement/issues/109'} \n",
            "\n",
            "---------------------------------------------------------------------------------------------------- \n",
            "\n",
            "Score:    (Score: 0.9014) \n",
            "\n",
            "Title:   {133: 'Create the RunView page in the WebUI'} \n",
            "\n",
            "Body:   {133: 'This epic covers the work required for the Run View web page.'} \n",
            "\n",
            "URL:   {133: 'https://github.com/galasa-dev/projectmanagement/issues/537'} \n",
            "\n",
            "-------------------------------------------------------------------------------- \n",
            "\n",
            "Score:    (Score: 0.9013) \n",
            "\n",
            "Title:   {13: 'Test the MVP Galasa Distribution and documentation'} \n",
            "\n",
            "Body:   {13: 'Manually test the MVP Galasa Distribution and documentation on various operating systems:-\\n\\n1. Windows\\n1. Mac\\n1. Ubuntu'} \n",
            "\n",
            "URL:   {13: 'https://github.com/galasa-dev/projectmanagement/issues/657'} \n",
            "\n",
            "------------------------------------------------------------------------------------------------------------------------------------------------------ \n",
            "\n",
            "Score:    (Score: 0.8996) \n",
            "\n",
            "Title:   {366: 'Create Galasa Manager in JAT'} \n",
            "\n",
            "Body:   {366: 'For running Galasa tests from JAT.\\n\\nNeeds to copy as many stored artifacts back to JAT as possible including the run log.'} \n",
            "\n",
            "URL:   {366: 'https://github.com/galasa-dev/projectmanagement/issues/304'} \n",
            "\n",
            "------------------------------------------------------------------------------------------------------------------------------------------------------- \n",
            "\n"
          ],
          "name": "stdout"
        },
        {
          "output_type": "display_data",
          "data": {
            "image/png": "[encoded data removed]",
            "text/plain": [
              "<Figure size 432x288 with 1 Axes>"
            ]
          },
          "metadata": {
            "tags": [],
            "needs_background": "light"
          }
        },
        {
          "output_type": "stream",
          "text": [
            "\n",
            "QUERY:  Has anyone moved the z/OS 3270 Manager to Beta?\n",
            "====================================================== \n",
            "\n",
            "Score:    (Score: 0.9141) \n",
            "\n",
            "Title:   {457: 'RELEASE the z/OS 3270 Manager'} \n",
            "\n",
            "Body:   {457: 'Perform the testing required to move the z/OS 3270 Manager to Release level.'} \n",
            "\n",
            "URL:   {457: 'https://github.com/galasa-dev/projectmanagement/issues/213'} \n",
            "\n",
            "------------------------------------------------------------------------------------------------- \n",
            "\n",
            "Score:    (Score: 0.9136) \n",
            "\n",
            "Title:   {507: 'z/OS Console Manager has only a placeholder documentation page'} \n",
            "\n",
            "Body:   {507: ''} \n",
            "\n",
            "URL:   {507: 'https://github.com/galasa-dev/projectmanagement/issues/163'} \n",
            "\n",
            "--------------------------------------------------------------------------------- \n",
            "\n",
            "Score:    (Score: 0.9102) \n",
            "\n",
            "Title:   {641: 'Increase CC% for the zOS 3270 Manager'} \n",
            "\n",
            "Body:   {641: ''} \n",
            "\n",
            "URL:   {641: 'https://github.com/galasa-dev/projectmanagement/issues/28'} \n",
            "\n",
            "---------------------------------------------------- \n",
            "\n",
            "Score:    (Score: 0.9088) \n",
            "\n",
            "Title:   {508: 'z/OS Batch Manager has only a placeholder documentation page'} \n",
            "\n",
            "Body:   {508: ''} \n",
            "\n",
            "URL:   {508: 'https://github.com/galasa-dev/projectmanagement/issues/162'} \n",
            "\n",
            "------------------------------------------------------------------------------- \n",
            "\n",
            "Score:    (Score: 0.9058) \n",
            "\n",
            "Title:   {509: \"z/OS 3270 manager doesn't have a documentation page\"} \n",
            "\n",
            "Body:   {509: ''} \n",
            "\n",
            "URL:   {509: 'https://github.com/galasa-dev/projectmanagement/issues/161'} \n",
            "\n",
            "--------------------------------------------------------------------- \n",
            "\n"
          ],
          "name": "stdout"
        },
        {
          "output_type": "display_data",
          "data": {
            "image/png": "[encoded data removed]",
            "text/plain": [
              "<Figure size 432x288 with 1 Axes>"
            ]
          },
          "metadata": {
            "tags": [],
            "needs_background": "light"
          }
        }
      ]
    }
  ]
}