{
  "nbformat": 4,
  "nbformat_minor": 0,
  "metadata": {
    "colab": {
      "name": "GALASA_1.ipynb",
      "provenance": [],
      "collapsed_sections": [
        "J5NjuHYjd-Yt"
      ],
      "mount_file_id": "1LBmdAjBCOLDkRYuSTBdg36sRxc2MSlGh",
      "authorship_tag": "ABX9TyPHZmtRDLb3mAzLlx1bw+Gl",
      "include_colab_link": true
    },
    "kernelspec": {
      "name": "python3",
      "display_name": "Python 3"
    },
    "accelerator": "GPU",
    "widgets": {
      "application/vnd.jupyter.widget-state+json": {
        "900016dda4ee41f4abdba666b9f47c44": {
          "model_module": "@jupyter-widgets/controls",
          "model_name": "HBoxModel",
          "state": {
            "_view_name": "HBoxView",
            "_dom_classes": [],
            "_model_name": "HBoxModel",
            "_view_module": "@jupyter-widgets/controls",
            "_model_module_version": "1.5.0",
            "_view_count": null,
            "_view_module_version": "1.5.0",
            "box_style": "",
            "layout": "IPY_MODEL_e24b7f86b7f54588ae14576269dfdc6b",
            "_model_module": "@jupyter-widgets/controls",
            "children": [
              "IPY_MODEL_2e6a524f180c4f4c96a2b8e76d90a552",
              "IPY_MODEL_dc778d60c7224fedb688be37389a4abe"
            ]
          }
        },
        "e24b7f86b7f54588ae14576269dfdc6b": {
          "model_module": "@jupyter-widgets/base",
          "model_name": "LayoutModel",
          "state": {
            "_view_name": "LayoutView",
            "grid_template_rows": null,
            "right": null,
            "justify_content": null,
            "_view_module": "@jupyter-widgets/base",
            "overflow": null,
            "_model_module_version": "1.2.0",
            "_view_count": null,
            "flex_flow": null,
            "width": null,
            "min_width": null,
            "border": null,
            "align_items": null,
            "bottom": null,
            "_model_module": "@jupyter-widgets/base",
            "top": null,
            "grid_column": null,
            "overflow_y": null,
            "overflow_x": null,
            "grid_auto_flow": null,
            "grid_area": null,
            "grid_template_columns": null,
            "flex": null,
            "_model_name": "LayoutModel",
            "justify_items": null,
            "grid_row": null,
            "max_height": null,
            "align_content": null,
            "visibility": null,
            "align_self": null,
            "height": null,
            "min_height": null,
            "padding": null,
            "grid_auto_rows": null,
            "grid_gap": null,
            "max_width": null,
            "order": null,
            "_view_module_version": "1.2.0",
            "grid_template_areas": null,
            "object_position": null,
            "object_fit": null,
            "grid_auto_columns": null,
            "margin": null,
            "display": null,
            "left": null
          }
        },
        "2e6a524f180c4f4c96a2b8e76d90a552": {
          "model_module": "@jupyter-widgets/controls",
          "model_name": "FloatProgressModel",
          "state": {
            "_view_name": "ProgressView",
            "style": "IPY_MODEL_dc6b51dedb5b44439db8e80e2e002e72",
            "_dom_classes": [],
            "description": "Batches: 100%",
            "_model_name": "FloatProgressModel",
            "bar_style": "success",
            "max": 22,
            "_view_module": "@jupyter-widgets/controls",
            "_model_module_version": "1.5.0",
            "value": 22,
            "_view_count": null,
            "_view_module_version": "1.5.0",
            "orientation": "horizontal",
            "min": 0,
            "description_tooltip": null,
            "_model_module": "@jupyter-widgets/controls",
            "layout": "IPY_MODEL_7d0b3dbce4bb4746819e8ce6d4d5b5cb"
          }
        },
        "dc778d60c7224fedb688be37389a4abe": {
          "model_module": "@jupyter-widgets/controls",
          "model_name": "HTMLModel",
          "state": {
            "_view_name": "HTMLView",
            "style": "IPY_MODEL_a080db794613459c9944abdf585eb280",
            "_dom_classes": [],
            "description": "",
            "_model_name": "HTMLModel",
            "placeholder": "​",
            "_view_module": "@jupyter-widgets/controls",
            "_model_module_version": "1.5.0",
            "value": " 22/22 [00:02&lt;00:00,  8.05it/s]",
            "_view_count": null,
            "_view_module_version": "1.5.0",
            "description_tooltip": null,
            "_model_module": "@jupyter-widgets/controls",
            "layout": "IPY_MODEL_e576ed4e192540cd837a91b5451360b1"
          }
        },
        "dc6b51dedb5b44439db8e80e2e002e72": {
          "model_module": "@jupyter-widgets/controls",
          "model_name": "ProgressStyleModel",
          "state": {
            "_view_name": "StyleView",
            "_model_name": "ProgressStyleModel",
            "description_width": "initial",
            "_view_module": "@jupyter-widgets/base",
            "_model_module_version": "1.5.0",
            "_view_count": null,
            "_view_module_version": "1.2.0",
            "bar_color": null,
            "_model_module": "@jupyter-widgets/controls"
          }
        },
        "7d0b3dbce4bb4746819e8ce6d4d5b5cb": {
          "model_module": "@jupyter-widgets/base",
          "model_name": "LayoutModel",
          "state": {
            "_view_name": "LayoutView",
            "grid_template_rows": null,
            "right": null,
            "justify_content": null,
            "_view_module": "@jupyter-widgets/base",
            "overflow": null,
            "_model_module_version": "1.2.0",
            "_view_count": null,
            "flex_flow": null,
            "width": null,
            "min_width": null,
            "border": null,
            "align_items": null,
            "bottom": null,
            "_model_module": "@jupyter-widgets/base",
            "top": null,
            "grid_column": null,
            "overflow_y": null,
            "overflow_x": null,
            "grid_auto_flow": null,
            "grid_area": null,
            "grid_template_columns": null,
            "flex": null,
            "_model_name": "LayoutModel",
            "justify_items": null,
            "grid_row": null,
            "max_height": null,
            "align_content": null,
            "visibility": null,
            "align_self": null,
            "height": null,
            "min_height": null,
            "padding": null,
            "grid_auto_rows": null,
            "grid_gap": null,
            "max_width": null,
            "order": null,
            "_view_module_version": "1.2.0",
            "grid_template_areas": null,
            "object_position": null,
            "object_fit": null,
            "grid_auto_columns": null,
            "margin": null,
            "display": null,
            "left": null
          }
        },
        "a080db794613459c9944abdf585eb280": {
          "model_module": "@jupyter-widgets/controls",
          "model_name": "DescriptionStyleModel",
          "state": {
            "_view_name": "StyleView",
            "_model_name": "DescriptionStyleModel",
            "description_width": "",
            "_view_module": "@jupyter-widgets/base",
            "_model_module_version": "1.5.0",
            "_view_count": null,
            "_view_module_version": "1.2.0",
            "_model_module": "@jupyter-widgets/controls"
          }
        },
        "e576ed4e192540cd837a91b5451360b1": {
          "model_module": "@jupyter-widgets/base",
          "model_name": "LayoutModel",
          "state": {
            "_view_name": "LayoutView",
            "grid_template_rows": null,
            "right": null,
            "justify_content": null,
            "_view_module": "@jupyter-widgets/base",
            "overflow": null,
            "_model_module_version": "1.2.0",
            "_view_count": null,
            "flex_flow": null,
            "width": null,
            "min_width": null,
            "border": null,
            "align_items": null,
            "bottom": null,
            "_model_module": "@jupyter-widgets/base",
            "top": null,
            "grid_column": null,
            "overflow_y": null,
            "overflow_x": null,
            "grid_auto_flow": null,
            "grid_area": null,
            "grid_template_columns": null,
            "flex": null,
            "_model_name": "LayoutModel",
            "justify_items": null,
            "grid_row": null,
            "max_height": null,
            "align_content": null,
            "visibility": null,
            "align_self": null,
            "height": null,
            "min_height": null,
            "padding": null,
            "grid_auto_rows": null,
            "grid_gap": null,
            "max_width": null,
            "order": null,
            "_view_module_version": "1.2.0",
            "grid_template_areas": null,
            "object_position": null,
            "object_fit": null,
            "grid_auto_columns": null,
            "margin": null,
            "display": null,
            "left": null
          }
        },
        "0894d3e110e740c0be6a5ff1aa2dcd7a": {
          "model_module": "@jupyter-widgets/controls",
          "model_name": "HBoxModel",
          "state": {
            "_view_name": "HBoxView",
            "_dom_classes": [],
            "_model_name": "HBoxModel",
            "_view_module": "@jupyter-widgets/controls",
            "_model_module_version": "1.5.0",
            "_view_count": null,
            "_view_module_version": "1.5.0",
            "box_style": "",
            "layout": "IPY_MODEL_d6f8b95ac6bd4f4cba00ece4830865d4",
            "_model_module": "@jupyter-widgets/controls",
            "children": [
              "IPY_MODEL_151ff9f371694e49ac069754be283c7a",
              "IPY_MODEL_2ccb2b9eea7044f7810f377f6e7410a0"
            ]
          }
        },
        "d6f8b95ac6bd4f4cba00ece4830865d4": {
          "model_module": "@jupyter-widgets/base",
          "model_name": "LayoutModel",
          "state": {
            "_view_name": "LayoutView",
            "grid_template_rows": null,
            "right": null,
            "justify_content": null,
            "_view_module": "@jupyter-widgets/base",
            "overflow": null,
            "_model_module_version": "1.2.0",
            "_view_count": null,
            "flex_flow": null,
            "width": null,
            "min_width": null,
            "border": null,
            "align_items": null,
            "bottom": null,
            "_model_module": "@jupyter-widgets/base",
            "top": null,
            "grid_column": null,
            "overflow_y": null,
            "overflow_x": null,
            "grid_auto_flow": null,
            "grid_area": null,
            "grid_template_columns": null,
            "flex": null,
            "_model_name": "LayoutModel",
            "justify_items": null,
            "grid_row": null,
            "max_height": null,
            "align_content": null,
            "visibility": null,
            "align_self": null,
            "height": null,
            "min_height": null,
            "padding": null,
            "grid_auto_rows": null,
            "grid_gap": null,
            "max_width": null,
            "order": null,
            "_view_module_version": "1.2.0",
            "grid_template_areas": null,
            "object_position": null,
            "object_fit": null,
            "grid_auto_columns": null,
            "margin": null,
            "display": null,
            "left": null
          }
        },
        "151ff9f371694e49ac069754be283c7a": {
          "model_module": "@jupyter-widgets/controls",
          "model_name": "FloatProgressModel",
          "state": {
            "_view_name": "ProgressView",
            "style": "IPY_MODEL_33de92adcaaa4ac2bb11dde5306e0581",
            "_dom_classes": [],
            "description": "Batches: 100%",
            "_model_name": "FloatProgressModel",
            "bar_style": "success",
            "max": 1,
            "_view_module": "@jupyter-widgets/controls",
            "_model_module_version": "1.5.0",
            "value": 1,
            "_view_count": null,
            "_view_module_version": "1.5.0",
            "orientation": "horizontal",
            "min": 0,
            "description_tooltip": null,
            "_model_module": "@jupyter-widgets/controls",
            "layout": "IPY_MODEL_88ca1d68936f4a088a8131c48f749bd1"
          }
        },
        "2ccb2b9eea7044f7810f377f6e7410a0": {
          "model_module": "@jupyter-widgets/controls",
          "model_name": "HTMLModel",
          "state": {
            "_view_name": "HTMLView",
            "style": "IPY_MODEL_0e8948abb1ce4989bf6988f21ca12fd0",
            "_dom_classes": [],
            "description": "",
            "_model_name": "HTMLModel",
            "placeholder": "​",
            "_view_module": "@jupyter-widgets/controls",
            "_model_module_version": "1.5.0",
            "value": " 1/1 [00:02&lt;00:00,  2.00s/it]",
            "_view_count": null,
            "_view_module_version": "1.5.0",
            "description_tooltip": null,
            "_model_module": "@jupyter-widgets/controls",
            "layout": "IPY_MODEL_86515a07735a4c27bd4cb82ab3c8353c"
          }
        },
        "33de92adcaaa4ac2bb11dde5306e0581": {
          "model_module": "@jupyter-widgets/controls",
          "model_name": "ProgressStyleModel",
          "state": {
            "_view_name": "StyleView",
            "_model_name": "ProgressStyleModel",
            "description_width": "initial",
            "_view_module": "@jupyter-widgets/base",
            "_model_module_version": "1.5.0",
            "_view_count": null,
            "_view_module_version": "1.2.0",
            "bar_color": null,
            "_model_module": "@jupyter-widgets/controls"
          }
        },
        "88ca1d68936f4a088a8131c48f749bd1": {
          "model_module": "@jupyter-widgets/base",
          "model_name": "LayoutModel",
          "state": {
            "_view_name": "LayoutView",
            "grid_template_rows": null,
            "right": null,
            "justify_content": null,
            "_view_module": "@jupyter-widgets/base",
            "overflow": null,
            "_model_module_version": "1.2.0",
            "_view_count": null,
            "flex_flow": null,
            "width": null,
            "min_width": null,
            "border": null,
            "align_items": null,
            "bottom": null,
            "_model_module": "@jupyter-widgets/base",
            "top": null,
            "grid_column": null,
            "overflow_y": null,
            "overflow_x": null,
            "grid_auto_flow": null,
            "grid_area": null,
            "grid_template_columns": null,
            "flex": null,
            "_model_name": "LayoutModel",
            "justify_items": null,
            "grid_row": null,
            "max_height": null,
            "align_content": null,
            "visibility": null,
            "align_self": null,
            "height": null,
            "min_height": null,
            "padding": null,
            "grid_auto_rows": null,
            "grid_gap": null,
            "max_width": null,
            "order": null,
            "_view_module_version": "1.2.0",
            "grid_template_areas": null,
            "object_position": null,
            "object_fit": null,
            "grid_auto_columns": null,
            "margin": null,
            "display": null,
            "left": null
          }
        },
        "0e8948abb1ce4989bf6988f21ca12fd0": {
          "model_module": "@jupyter-widgets/controls",
          "model_name": "DescriptionStyleModel",
          "state": {
            "_view_name": "StyleView",
            "_model_name": "DescriptionStyleModel",
            "description_width": "",
            "_view_module": "@jupyter-widgets/base",
            "_model_module_version": "1.5.0",
            "_view_count": null,
            "_view_module_version": "1.2.0",
            "_model_module": "@jupyter-widgets/controls"
          }
        },
        "86515a07735a4c27bd4cb82ab3c8353c": {
          "model_module": "@jupyter-widgets/base",
          "model_name": "LayoutModel",
          "state": {
            "_view_name": "LayoutView",
            "grid_template_rows": null,
            "right": null,
            "justify_content": null,
            "_view_module": "@jupyter-widgets/base",
            "overflow": null,
            "_model_module_version": "1.2.0",
            "_view_count": null,
            "flex_flow": null,
            "width": null,
            "min_width": null,
            "border": null,
            "align_items": null,
            "bottom": null,
            "_model_module": "@jupyter-widgets/base",
            "top": null,
            "grid_column": null,
            "overflow_y": null,
            "overflow_x": null,
            "grid_auto_flow": null,
            "grid_area": null,
            "grid_template_columns": null,
            "flex": null,
            "_model_name": "LayoutModel",
            "justify_items": null,
            "grid_row": null,
            "max_height": null,
            "align_content": null,
            "visibility": null,
            "align_self": null,
            "height": null,
            "min_height": null,
            "padding": null,
            "grid_auto_rows": null,
            "grid_gap": null,
            "max_width": null,
            "order": null,
            "_view_module_version": "1.2.0",
            "grid_template_areas": null,
            "object_position": null,
            "object_fit": null,
            "grid_auto_columns": null,
            "margin": null,
            "display": null,
            "left": null
          }
        }
      }
    }
  },
  "cells": [
    {
      "cell_type": "markdown",
      "metadata": {
        "id": "view-in-github",
        "colab_type": "text"
      },
      "source": [
        "<a href=\"https://colab.research.google.com/github/cmrios2398/GALASA_NLP/blob/main/GALASA_NLP.ipynb\" target=\"_parent\"><img src=\"https://colab.research.google.com/assets/colab-badge.svg\" alt=\"Open In Colab\"/></a>"
      ]
    },
    {
      "cell_type": "markdown",
      "metadata": {
        "id": "jd9X0UJEd1Af"
      },
      "source": [
        "\n",
        "# **Package Installation**"
      ]
    },
    {
      "cell_type": "code",
      "metadata": {
        "colab": {
          "base_uri": "https://localhost:8080/"
        },
        "id": "ff5nPTd2d7xE",
        "outputId": "e64a8160-1839-40b2-fbe8-5575e391fc22"
      },
      "source": [
        "!pip install transformers\n",
        "!pip install -U sentence-transformers\n",
        "!git clone https://github.com/huggingface/transformers.git\n",
        "\n",
        "from sentence_transformers import SentenceTransformer\n",
        "from sentence_transformers import models, losses\n",
        "import sentence_transformers as st\n",
        "import scipy.spatial\n",
        "import pickle as pkl\n",
        "import gc\n",
        "import matplotlib.pyplot as plt\n",
        "import torch\n",
        "import pprint"
      ],
      "execution_count": 1,
      "outputs": [
        {
          "output_type": "stream",
          "text": [
            "Collecting transformers\n",
            "\u001b[?25l  Downloading https://files.pythonhosted.org/packages/d8/b2/57495b5309f09fa501866e225c84532d1fd89536ea62406b2181933fb418/transformers-4.5.1-py3-none-any.whl (2.1MB)\n",
            "\u001b[K     |████████████████████████████████| 2.1MB 6.6MB/s \n",
            "\u001b[?25hRequirement already satisfied: filelock in /usr/local/lib/python3.7/dist-packages (from transformers) (3.0.12)\n",
            "Requirement already satisfied: regex!=2019.12.17 in /usr/local/lib/python3.7/dist-packages (from transformers) (2019.12.20)\n",
            "Requirement already satisfied: importlib-metadata; python_version < \"3.8\" in /usr/local/lib/python3.7/dist-packages (from transformers) (3.10.1)\n",
            "Collecting tokenizers<0.11,>=0.10.1\n",
            "\u001b[?25l  Downloading https://files.pythonhosted.org/packages/ae/04/5b870f26a858552025a62f1649c20d29d2672c02ff3c3fb4c688ca46467a/tokenizers-0.10.2-cp37-cp37m-manylinux2010_x86_64.whl (3.3MB)\n",
            "\u001b[K     |████████████████████████████████| 3.3MB 22.2MB/s \n",
            "\u001b[?25hRequirement already satisfied: numpy>=1.17 in /usr/local/lib/python3.7/dist-packages (from transformers) (1.19.5)\n",
            "Collecting sacremoses\n",
            "\u001b[?25l  Downloading https://files.pythonhosted.org/packages/75/ee/67241dc87f266093c533a2d4d3d69438e57d7a90abb216fa076e7d475d4a/sacremoses-0.0.45-py3-none-any.whl (895kB)\n",
            "\u001b[K     |████████████████████████████████| 901kB 38.4MB/s \n",
            "\u001b[?25hRequirement already satisfied: tqdm>=4.27 in /usr/local/lib/python3.7/dist-packages (from transformers) (4.41.1)\n",
            "Requirement already satisfied: requests in /usr/local/lib/python3.7/dist-packages (from transformers) (2.23.0)\n",
            "Requirement already satisfied: packaging in /usr/local/lib/python3.7/dist-packages (from transformers) (20.9)\n",
            "Requirement already satisfied: typing-extensions>=3.6.4; python_version < \"3.8\" in /usr/local/lib/python3.7/dist-packages (from importlib-metadata; python_version < \"3.8\"->transformers) (3.7.4.3)\n",
            "Requirement already satisfied: zipp>=0.5 in /usr/local/lib/python3.7/dist-packages (from importlib-metadata; python_version < \"3.8\"->transformers) (3.4.1)\n",
            "Requirement already satisfied: click in /usr/local/lib/python3.7/dist-packages (from sacremoses->transformers) (7.1.2)\n",
            "Requirement already satisfied: joblib in /usr/local/lib/python3.7/dist-packages (from sacremoses->transformers) (1.0.1)\n",
            "Requirement already satisfied: six in /usr/local/lib/python3.7/dist-packages (from sacremoses->transformers) (1.15.0)\n",
            "Requirement already satisfied: chardet<4,>=3.0.2 in /usr/local/lib/python3.7/dist-packages (from requests->transformers) (3.0.4)\n",
            "Requirement already satisfied: idna<3,>=2.5 in /usr/local/lib/python3.7/dist-packages (from requests->transformers) (2.10)\n",
            "Requirement already satisfied: certifi>=2017.4.17 in /usr/local/lib/python3.7/dist-packages (from requests->transformers) (2020.12.5)\n",
            "Requirement already satisfied: urllib3!=1.25.0,!=1.25.1,<1.26,>=1.21.1 in /usr/local/lib/python3.7/dist-packages (from requests->transformers) (1.24.3)\n",
            "Requirement already satisfied: pyparsing>=2.0.2 in /usr/local/lib/python3.7/dist-packages (from packaging->transformers) (2.4.7)\n",
            "Installing collected packages: tokenizers, sacremoses, transformers\n",
            "Successfully installed sacremoses-0.0.45 tokenizers-0.10.2 transformers-4.5.1\n",
            "Collecting sentence-transformers\n",
            "\u001b[?25l  Downloading https://files.pythonhosted.org/packages/c4/87/49dc49e13ac107ce912c2f3f3fd92252c6d4221e88d1e6c16747044a11d8/sentence-transformers-1.1.0.tar.gz (78kB)\n",
            "\u001b[K     |████████████████████████████████| 81kB 4.3MB/s \n",
            "\u001b[?25hRequirement already satisfied, skipping upgrade: transformers<5.0.0,>=3.1.0 in /usr/local/lib/python3.7/dist-packages (from sentence-transformers) (4.5.1)\n",
            "Requirement already satisfied, skipping upgrade: tqdm in /usr/local/lib/python3.7/dist-packages (from sentence-transformers) (4.41.1)\n",
            "Requirement already satisfied, skipping upgrade: torch>=1.6.0 in /usr/local/lib/python3.7/dist-packages (from sentence-transformers) (1.8.1+cu101)\n",
            "Requirement already satisfied, skipping upgrade: numpy in /usr/local/lib/python3.7/dist-packages (from sentence-transformers) (1.19.5)\n",
            "Requirement already satisfied, skipping upgrade: scikit-learn in /usr/local/lib/python3.7/dist-packages (from sentence-transformers) (0.22.2.post1)\n",
            "Requirement already satisfied, skipping upgrade: scipy in /usr/local/lib/python3.7/dist-packages (from sentence-transformers) (1.4.1)\n",
            "Requirement already satisfied, skipping upgrade: nltk in /usr/local/lib/python3.7/dist-packages (from sentence-transformers) (3.2.5)\n",
            "Collecting sentencepiece\n",
            "\u001b[?25l  Downloading https://files.pythonhosted.org/packages/f5/99/e0808cb947ba10f575839c43e8fafc9cc44e4a7a2c8f79c60db48220a577/sentencepiece-0.1.95-cp37-cp37m-manylinux2014_x86_64.whl (1.2MB)\n",
            "\u001b[K     |████████████████████████████████| 1.2MB 8.4MB/s \n",
            "\u001b[?25hRequirement already satisfied, skipping upgrade: filelock in /usr/local/lib/python3.7/dist-packages (from transformers<5.0.0,>=3.1.0->sentence-transformers) (3.0.12)\n",
            "Requirement already satisfied, skipping upgrade: requests in /usr/local/lib/python3.7/dist-packages (from transformers<5.0.0,>=3.1.0->sentence-transformers) (2.23.0)\n",
            "Requirement already satisfied, skipping upgrade: sacremoses in /usr/local/lib/python3.7/dist-packages (from transformers<5.0.0,>=3.1.0->sentence-transformers) (0.0.45)\n",
            "Requirement already satisfied, skipping upgrade: packaging in /usr/local/lib/python3.7/dist-packages (from transformers<5.0.0,>=3.1.0->sentence-transformers) (20.9)\n",
            "Requirement already satisfied, skipping upgrade: tokenizers<0.11,>=0.10.1 in /usr/local/lib/python3.7/dist-packages (from transformers<5.0.0,>=3.1.0->sentence-transformers) (0.10.2)\n",
            "Requirement already satisfied, skipping upgrade: regex!=2019.12.17 in /usr/local/lib/python3.7/dist-packages (from transformers<5.0.0,>=3.1.0->sentence-transformers) (2019.12.20)\n",
            "Requirement already satisfied, skipping upgrade: importlib-metadata; python_version < \"3.8\" in /usr/local/lib/python3.7/dist-packages (from transformers<5.0.0,>=3.1.0->sentence-transformers) (3.10.1)\n",
            "Requirement already satisfied, skipping upgrade: typing-extensions in /usr/local/lib/python3.7/dist-packages (from torch>=1.6.0->sentence-transformers) (3.7.4.3)\n",
            "Requirement already satisfied, skipping upgrade: joblib>=0.11 in /usr/local/lib/python3.7/dist-packages (from scikit-learn->sentence-transformers) (1.0.1)\n",
            "Requirement already satisfied, skipping upgrade: six in /usr/local/lib/python3.7/dist-packages (from nltk->sentence-transformers) (1.15.0)\n",
            "Requirement already satisfied, skipping upgrade: chardet<4,>=3.0.2 in /usr/local/lib/python3.7/dist-packages (from requests->transformers<5.0.0,>=3.1.0->sentence-transformers) (3.0.4)\n",
            "Requirement already satisfied, skipping upgrade: certifi>=2017.4.17 in /usr/local/lib/python3.7/dist-packages (from requests->transformers<5.0.0,>=3.1.0->sentence-transformers) (2020.12.5)\n",
            "Requirement already satisfied, skipping upgrade: idna<3,>=2.5 in /usr/local/lib/python3.7/dist-packages (from requests->transformers<5.0.0,>=3.1.0->sentence-transformers) (2.10)\n",
            "Requirement already satisfied, skipping upgrade: urllib3!=1.25.0,!=1.25.1,<1.26,>=1.21.1 in /usr/local/lib/python3.7/dist-packages (from requests->transformers<5.0.0,>=3.1.0->sentence-transformers) (1.24.3)\n",
            "Requirement already satisfied, skipping upgrade: click in /usr/local/lib/python3.7/dist-packages (from sacremoses->transformers<5.0.0,>=3.1.0->sentence-transformers) (7.1.2)\n",
            "Requirement already satisfied, skipping upgrade: pyparsing>=2.0.2 in /usr/local/lib/python3.7/dist-packages (from packaging->transformers<5.0.0,>=3.1.0->sentence-transformers) (2.4.7)\n",
            "Requirement already satisfied, skipping upgrade: zipp>=0.5 in /usr/local/lib/python3.7/dist-packages (from importlib-metadata; python_version < \"3.8\"->transformers<5.0.0,>=3.1.0->sentence-transformers) (3.4.1)\n",
            "Building wheels for collected packages: sentence-transformers\n",
            "  Building wheel for sentence-transformers (setup.py) ... \u001b[?25l\u001b[?25hdone\n",
            "  Created wheel for sentence-transformers: filename=sentence_transformers-1.1.0-cp37-none-any.whl size=119615 sha256=bb254ffac3cc17afbdbc8dc0f115d6b8fbaee3a853c0387398266bfd8fd6bf4c\n",
            "  Stored in directory: /root/.cache/pip/wheels/84/cb/21/1066bff3027215c760ca14a198f698bca8fccb92e33e2327eb\n",
            "Successfully built sentence-transformers\n",
            "Installing collected packages: sentencepiece, sentence-transformers\n",
            "Successfully installed sentence-transformers-1.1.0 sentencepiece-0.1.95\n",
            "Cloning into 'transformers'...\n",
            "remote: Enumerating objects: 71775, done.\u001b[K\n",
            "remote: Counting objects: 100% (437/437), done.\u001b[K\n",
            "remote: Compressing objects: 100% (276/276), done.\u001b[K\n",
            "remote: Total 71775 (delta 207), reused 285 (delta 123), pack-reused 71338\u001b[K\n",
            "Receiving objects: 100% (71775/71775), 54.86 MiB | 23.59 MiB/s, done.\n",
            "Resolving deltas: 100% (50867/50867), done.\n"
          ],
          "name": "stdout"
        }
      ]
    },
    {
      "cell_type": "markdown",
      "metadata": {
        "id": "J5NjuHYjd-Yt"
      },
      "source": [
        "# **Data Retrieval & Initial Sanitisation**"
      ]
    },
    {
      "cell_type": "code",
      "metadata": {
        "colab": {
          "base_uri": "https://localhost:8080/"
        },
        "id": "1mm6pnTAKfP2",
        "outputId": "7999bc1d-f1ba-470a-a7b5-02eac516d3a1"
      },
      "source": [
        "import requests\n",
        "import pandas as pd\n",
        "\n",
        "\"\"\" makes API get requests for every GitHub Issues post and\n",
        "creates a list of dictionaries with id, html_url, title and body\n",
        "to conveniently retrieve necessary data and allow to point at \n",
        "each post \"\"\"\n",
        "\n",
        "page_no = 1\n",
        "all_data = []\n",
        "while True:\n",
        "  url = 'https://api.github.com/repos/galasa-dev/projectmanagement/issues?state=all&per_page=100&page=' + str(page_no)\n",
        "  print(url)\n",
        "  res = requests.get(url)\n",
        "  for each in res.json():\n",
        "    entry = {\"id\" : each[\"id\"], \"html_url\" : each[\"html_url\"], \"title\" : each[\"title\"], \"body\" : each[\"body\"]}\n",
        "    all_data.append(entry)\n",
        "  \n",
        "  page_no += 1\n",
        "\n",
        "  if len(res.json()) == 0:\n",
        "    break"
      ],
      "execution_count": 2,
      "outputs": [
        {
          "output_type": "stream",
          "text": [
            "https://api.github.com/repos/galasa-dev/projectmanagement/issues?state=all&per_page=100&page=1\n",
            "https://api.github.com/repos/galasa-dev/projectmanagement/issues?state=all&per_page=100&page=2\n",
            "https://api.github.com/repos/galasa-dev/projectmanagement/issues?state=all&per_page=100&page=3\n",
            "https://api.github.com/repos/galasa-dev/projectmanagement/issues?state=all&per_page=100&page=4\n",
            "https://api.github.com/repos/galasa-dev/projectmanagement/issues?state=all&per_page=100&page=5\n",
            "https://api.github.com/repos/galasa-dev/projectmanagement/issues?state=all&per_page=100&page=6\n",
            "https://api.github.com/repos/galasa-dev/projectmanagement/issues?state=all&per_page=100&page=7\n",
            "https://api.github.com/repos/galasa-dev/projectmanagement/issues?state=all&per_page=100&page=8\n"
          ],
          "name": "stdout"
        }
      ]
    },
    {
      "cell_type": "markdown",
      "metadata": {
        "id": "UhO0A-odmfyc"
      },
      "source": [
        "**DataFrame Conversion & Duplicate Handling**"
      ]
    },
    {
      "cell_type": "code",
      "metadata": {
        "colab": {
          "base_uri": "https://localhost:8080/"
        },
        "id": "qVanoqhCiJVi",
        "outputId": "4c7e8777-e9b2-442b-8859-b42b79720620"
      },
      "source": [
        "test_data_frame = pd.DataFrame(all_data)\n",
        "test_data_frame.drop_duplicates(['body','title'], inplace=True)\n",
        "\n",
        "test_data_frame['title'].describe(include='all')"
      ],
      "execution_count": 3,
      "outputs": [
        {
          "output_type": "execute_result",
          "data": {
            "text/plain": [
              "count                                 685\n",
              "unique                                683\n",
              "top       RELEASE the HTTP Client Manager\n",
              "freq                                    2\n",
              "Name: title, dtype: object"
            ]
          },
          "metadata": {
            "tags": []
          },
          "execution_count": 3
        }
      ]
    },
    {
      "cell_type": "code",
      "metadata": {
        "colab": {
          "base_uri": "https://localhost:8080/"
        },
        "id": "Ic8Ia4Hqnn-0",
        "outputId": "42538a50-6343-456d-b639-51980a346257"
      },
      "source": [
        "test_data_frame['body'].describe(include='all')"
      ],
      "execution_count": 4,
      "outputs": [
        {
          "output_type": "execute_result",
          "data": {
            "text/plain": [
              "count     685\n",
              "unique    606\n",
              "top          \n",
              "freq       77\n",
              "Name: body, dtype: object"
            ]
          },
          "metadata": {
            "tags": []
          },
          "execution_count": 4
        }
      ]
    },
    {
      "cell_type": "markdown",
      "metadata": {
        "id": "DqRzLFBqn7e0"
      },
      "source": [
        "**Data Inspection**"
      ]
    },
    {
      "cell_type": "code",
      "metadata": {
        "colab": {
          "base_uri": "https://localhost:8080/",
          "height": 0
        },
        "id": "s1u6bCYCn1fA",
        "outputId": "c51792bb-2cb7-42f9-c10e-2344088542fb"
      },
      "source": [
        "test_data_frame.head(15)"
      ],
      "execution_count": 5,
      "outputs": [
        {
          "output_type": "execute_result",
          "data": {
            "text/html": [
              "<div>\n",
              "<style scoped>\n",
              "    .dataframe tbody tr th:only-of-type {\n",
              "        vertical-align: middle;\n",
              "    }\n",
              "\n",
              "    .dataframe tbody tr th {\n",
              "        vertical-align: top;\n",
              "    }\n",
              "\n",
              "    .dataframe thead th {\n",
              "        text-align: right;\n",
              "    }\n",
              "</style>\n",
              "<table border=\"1\" class=\"dataframe\">\n",
              "  <thead>\n",
              "    <tr style=\"text-align: right;\">\n",
              "      <th></th>\n",
              "      <th>id</th>\n",
              "      <th>html_url</th>\n",
              "      <th>title</th>\n",
              "      <th>body</th>\n",
              "    </tr>\n",
              "  </thead>\n",
              "  <tbody>\n",
              "    <tr>\n",
              "      <th>0</th>\n",
              "      <td>875390445</td>\n",
              "      <td>https://github.com/galasa-dev/projectmanagemen...</td>\n",
              "      <td>Add search capability to Galasa Results Run lo...</td>\n",
              "      <td>Add search capability to Galasa Results Run lo...</td>\n",
              "    </tr>\n",
              "    <tr>\n",
              "      <th>1</th>\n",
              "      <td>875164874</td>\n",
              "      <td>https://github.com/galasa-dev/projectmanagemen...</td>\n",
              "      <td>NPE is Selenium resource management</td>\n",
              "      <td>04/05/2021 06:56:43.860 ERROR pool-6-thread-2 ...</td>\n",
              "    </tr>\n",
              "    <tr>\n",
              "      <th>2</th>\n",
              "      <td>872101215</td>\n",
              "      <td>https://github.com/galasa-dev/projectmanagemen...</td>\n",
              "      <td>Can Galasa be used for IMS screens</td>\n",
              "      <td>Hi Team,\\r\\n\\r\\nI wanted to check if Galasa ca...</td>\n",
              "    </tr>\n",
              "    <tr>\n",
              "      <th>3</th>\n",
              "      <td>871076197</td>\n",
              "      <td>https://github.com/galasa-dev/projectmanagemen...</td>\n",
              "      <td>managers - potential vulnerabilities in snakey...</td>\n",
              "      <td>upgrade to 1.26</td>\n",
              "    </tr>\n",
              "    <tr>\n",
              "      <th>4</th>\n",
              "      <td>871074887</td>\n",
              "      <td>https://github.com/galasa-dev/projectmanagemen...</td>\n",
              "      <td>managers - potential vulnerabilities in httpcl...</td>\n",
              "      <td>Upgrade to 4.5.13 or v5</td>\n",
              "    </tr>\n",
              "    <tr>\n",
              "      <th>5</th>\n",
              "      <td>871071998</td>\n",
              "      <td>https://github.com/galasa-dev/projectmanagemen...</td>\n",
              "      <td>managers - potential vulnerabilities in google...</td>\n",
              "      <td>A temp directory creation vulnerability exists...</td>\n",
              "    </tr>\n",
              "    <tr>\n",
              "      <th>6</th>\n",
              "      <td>871070717</td>\n",
              "      <td>https://github.com/galasa-dev/projectmanagemen...</td>\n",
              "      <td>managers - potential vulnerabilities in common...</td>\n",
              "      <td>upgrade to 2.7</td>\n",
              "    </tr>\n",
              "    <tr>\n",
              "      <th>7</th>\n",
              "      <td>871069632</td>\n",
              "      <td>https://github.com/galasa-dev/projectmanagemen...</td>\n",
              "      <td>managers - potential vulnerabilities in common...</td>\n",
              "      <td>upgrade to at least 3.2.2</td>\n",
              "    </tr>\n",
              "    <tr>\n",
              "      <th>8</th>\n",
              "      <td>871066989</td>\n",
              "      <td>https://github.com/galasa-dev/projectmanagemen...</td>\n",
              "      <td>managers - potential vulnerabilities in common...</td>\n",
              "      <td>upgrade to 1.13</td>\n",
              "    </tr>\n",
              "    <tr>\n",
              "      <th>9</th>\n",
              "      <td>871065998</td>\n",
              "      <td>https://github.com/galasa-dev/projectmanagemen...</td>\n",
              "      <td>managers - vulnerabilities in client-java-7.0.0</td>\n",
              "      <td>upgrade io.kubernetes.client-java to 9.0.3, 10...</td>\n",
              "    </tr>\n",
              "    <tr>\n",
              "      <th>10</th>\n",
              "      <td>871064284</td>\n",
              "      <td>https://github.com/galasa-dev/projectmanagemen...</td>\n",
              "      <td>managers - Security vulnerabilities in bcprov ...</td>\n",
              "      <td>ideally need to bump bcprov-ext-jdk15on-1.60.j...</td>\n",
              "    </tr>\n",
              "    <tr>\n",
              "      <th>11</th>\n",
              "      <td>870062013</td>\n",
              "      <td>https://github.com/galasa-dev/projectmanagemen...</td>\n",
              "      <td>commons.io vulnerable in framework</td>\n",
              "      <td>In Apache Commons IO before 2.7, When invoking...</td>\n",
              "    </tr>\n",
              "    <tr>\n",
              "      <th>12</th>\n",
              "      <td>870059707</td>\n",
              "      <td>https://github.com/galasa-dev/projectmanagemen...</td>\n",
              "      <td>Path traversal Vuln in Framework</td>\n",
              "      <td>java.nio.file.FileSystem.getPath(String;String...</td>\n",
              "    </tr>\n",
              "    <tr>\n",
              "      <th>13</th>\n",
              "      <td>870057601</td>\n",
              "      <td>https://github.com/galasa-dev/projectmanagemen...</td>\n",
              "      <td>Security vulnerabilities in log4J in Framework</td>\n",
              "      <td>Included in Log4j 1.2 is a SocketServer class ...</td>\n",
              "    </tr>\n",
              "    <tr>\n",
              "      <th>14</th>\n",
              "      <td>869778210</td>\n",
              "      <td>https://github.com/galasa-dev/projectmanagemen...</td>\n",
              "      <td>FPF for PerformActions doesnt check for file u...</td>\n",
              "      <td>dev.galasa.framework.spi.FrameworkPropertyFile...</td>\n",
              "    </tr>\n",
              "  </tbody>\n",
              "</table>\n",
              "</div>"
            ],
            "text/plain": [
              "           id  ...                                               body\n",
              "0   875390445  ...  Add search capability to Galasa Results Run lo...\n",
              "1   875164874  ...  04/05/2021 06:56:43.860 ERROR pool-6-thread-2 ...\n",
              "2   872101215  ...  Hi Team,\\r\\n\\r\\nI wanted to check if Galasa ca...\n",
              "3   871076197  ...                                    upgrade to 1.26\n",
              "4   871074887  ...                            Upgrade to 4.5.13 or v5\n",
              "5   871071998  ...  A temp directory creation vulnerability exists...\n",
              "6   871070717  ...                                     upgrade to 2.7\n",
              "7   871069632  ...                          upgrade to at least 3.2.2\n",
              "8   871066989  ...                                    upgrade to 1.13\n",
              "9   871065998  ...  upgrade io.kubernetes.client-java to 9.0.3, 10...\n",
              "10  871064284  ...  ideally need to bump bcprov-ext-jdk15on-1.60.j...\n",
              "11  870062013  ...  In Apache Commons IO before 2.7, When invoking...\n",
              "12  870059707  ...  java.nio.file.FileSystem.getPath(String;String...\n",
              "13  870057601  ...  Included in Log4j 1.2 is a SocketServer class ...\n",
              "14  869778210  ...  dev.galasa.framework.spi.FrameworkPropertyFile...\n",
              "\n",
              "[15 rows x 4 columns]"
            ]
          },
          "metadata": {
            "tags": []
          },
          "execution_count": 5
        }
      ]
    },
    {
      "cell_type": "code",
      "metadata": {
        "colab": {
          "base_uri": "https://localhost:8080/",
          "height": 0
        },
        "id": "8RfXWJ3coAEi",
        "outputId": "ca78ebb0-28c3-4682-8a3c-3f5a4bfea0dd"
      },
      "source": [
        "test_data_frame.describe()"
      ],
      "execution_count": 6,
      "outputs": [
        {
          "output_type": "execute_result",
          "data": {
            "text/html": [
              "<div>\n",
              "<style scoped>\n",
              "    .dataframe tbody tr th:only-of-type {\n",
              "        vertical-align: middle;\n",
              "    }\n",
              "\n",
              "    .dataframe tbody tr th {\n",
              "        vertical-align: top;\n",
              "    }\n",
              "\n",
              "    .dataframe thead th {\n",
              "        text-align: right;\n",
              "    }\n",
              "</style>\n",
              "<table border=\"1\" class=\"dataframe\">\n",
              "  <thead>\n",
              "    <tr style=\"text-align: right;\">\n",
              "      <th></th>\n",
              "      <th>id</th>\n",
              "    </tr>\n",
              "  </thead>\n",
              "  <tbody>\n",
              "    <tr>\n",
              "      <th>count</th>\n",
              "      <td>6.850000e+02</td>\n",
              "    </tr>\n",
              "    <tr>\n",
              "      <th>mean</th>\n",
              "      <td>6.772417e+08</td>\n",
              "    </tr>\n",
              "    <tr>\n",
              "      <th>std</th>\n",
              "      <td>1.028836e+08</td>\n",
              "    </tr>\n",
              "    <tr>\n",
              "      <th>min</th>\n",
              "      <td>5.193638e+08</td>\n",
              "    </tr>\n",
              "    <tr>\n",
              "      <th>25%</th>\n",
              "      <td>6.061776e+08</td>\n",
              "    </tr>\n",
              "    <tr>\n",
              "      <th>50%</th>\n",
              "      <td>6.498531e+08</td>\n",
              "    </tr>\n",
              "    <tr>\n",
              "      <th>75%</th>\n",
              "      <td>7.447391e+08</td>\n",
              "    </tr>\n",
              "    <tr>\n",
              "      <th>max</th>\n",
              "      <td>8.753904e+08</td>\n",
              "    </tr>\n",
              "  </tbody>\n",
              "</table>\n",
              "</div>"
            ],
            "text/plain": [
              "                 id\n",
              "count  6.850000e+02\n",
              "mean   6.772417e+08\n",
              "std    1.028836e+08\n",
              "min    5.193638e+08\n",
              "25%    6.061776e+08\n",
              "50%    6.498531e+08\n",
              "75%    7.447391e+08\n",
              "max    8.753904e+08"
            ]
          },
          "metadata": {
            "tags": []
          },
          "execution_count": 6
        }
      ]
    },
    {
      "cell_type": "code",
      "metadata": {
        "colab": {
          "base_uri": "https://localhost:8080/"
        },
        "id": "-vsgdXunog1Y",
        "outputId": "52e1dc41-13e7-411f-aca4-36354d26159e"
      },
      "source": [
        "test_data_frame.dropna(inplace=True)\n",
        "test_data_frame.info()"
      ],
      "execution_count": 7,
      "outputs": [
        {
          "output_type": "stream",
          "text": [
            "<class 'pandas.core.frame.DataFrame'>\n",
            "Int64Index: 685 entries, 0 to 684\n",
            "Data columns (total 4 columns):\n",
            " #   Column    Non-Null Count  Dtype \n",
            "---  ------    --------------  ----- \n",
            " 0   id        685 non-null    int64 \n",
            " 1   html_url  685 non-null    object\n",
            " 2   title     685 non-null    object\n",
            " 3   body      685 non-null    object\n",
            "dtypes: int64(1), object(3)\n",
            "memory usage: 26.8+ KB\n"
          ],
          "name": "stdout"
        }
      ]
    },
    {
      "cell_type": "code",
      "metadata": {
        "colab": {
          "base_uri": "https://localhost:8080/",
          "height": 0
        },
        "id": "B0NWEL2Zoy3d",
        "outputId": "6ebb2907-a421-4ecb-c5d1-61b0097d8915"
      },
      "source": [
        "# checking the first fifteen entries\n",
        "test_data_frame.head(10)"
      ],
      "execution_count": 8,
      "outputs": [
        {
          "output_type": "execute_result",
          "data": {
            "text/html": [
              "<div>\n",
              "<style scoped>\n",
              "    .dataframe tbody tr th:only-of-type {\n",
              "        vertical-align: middle;\n",
              "    }\n",
              "\n",
              "    .dataframe tbody tr th {\n",
              "        vertical-align: top;\n",
              "    }\n",
              "\n",
              "    .dataframe thead th {\n",
              "        text-align: right;\n",
              "    }\n",
              "</style>\n",
              "<table border=\"1\" class=\"dataframe\">\n",
              "  <thead>\n",
              "    <tr style=\"text-align: right;\">\n",
              "      <th></th>\n",
              "      <th>id</th>\n",
              "      <th>html_url</th>\n",
              "      <th>title</th>\n",
              "      <th>body</th>\n",
              "    </tr>\n",
              "  </thead>\n",
              "  <tbody>\n",
              "    <tr>\n",
              "      <th>0</th>\n",
              "      <td>875390445</td>\n",
              "      <td>https://github.com/galasa-dev/projectmanagemen...</td>\n",
              "      <td>Add search capability to Galasa Results Run lo...</td>\n",
              "      <td>Add search capability to Galasa Results Run lo...</td>\n",
              "    </tr>\n",
              "    <tr>\n",
              "      <th>1</th>\n",
              "      <td>875164874</td>\n",
              "      <td>https://github.com/galasa-dev/projectmanagemen...</td>\n",
              "      <td>NPE is Selenium resource management</td>\n",
              "      <td>04/05/2021 06:56:43.860 ERROR pool-6-thread-2 ...</td>\n",
              "    </tr>\n",
              "    <tr>\n",
              "      <th>2</th>\n",
              "      <td>872101215</td>\n",
              "      <td>https://github.com/galasa-dev/projectmanagemen...</td>\n",
              "      <td>Can Galasa be used for IMS screens</td>\n",
              "      <td>Hi Team,\\r\\n\\r\\nI wanted to check if Galasa ca...</td>\n",
              "    </tr>\n",
              "    <tr>\n",
              "      <th>3</th>\n",
              "      <td>871076197</td>\n",
              "      <td>https://github.com/galasa-dev/projectmanagemen...</td>\n",
              "      <td>managers - potential vulnerabilities in snakey...</td>\n",
              "      <td>upgrade to 1.26</td>\n",
              "    </tr>\n",
              "    <tr>\n",
              "      <th>4</th>\n",
              "      <td>871074887</td>\n",
              "      <td>https://github.com/galasa-dev/projectmanagemen...</td>\n",
              "      <td>managers - potential vulnerabilities in httpcl...</td>\n",
              "      <td>Upgrade to 4.5.13 or v5</td>\n",
              "    </tr>\n",
              "    <tr>\n",
              "      <th>5</th>\n",
              "      <td>871071998</td>\n",
              "      <td>https://github.com/galasa-dev/projectmanagemen...</td>\n",
              "      <td>managers - potential vulnerabilities in google...</td>\n",
              "      <td>A temp directory creation vulnerability exists...</td>\n",
              "    </tr>\n",
              "    <tr>\n",
              "      <th>6</th>\n",
              "      <td>871070717</td>\n",
              "      <td>https://github.com/galasa-dev/projectmanagemen...</td>\n",
              "      <td>managers - potential vulnerabilities in common...</td>\n",
              "      <td>upgrade to 2.7</td>\n",
              "    </tr>\n",
              "    <tr>\n",
              "      <th>7</th>\n",
              "      <td>871069632</td>\n",
              "      <td>https://github.com/galasa-dev/projectmanagemen...</td>\n",
              "      <td>managers - potential vulnerabilities in common...</td>\n",
              "      <td>upgrade to at least 3.2.2</td>\n",
              "    </tr>\n",
              "    <tr>\n",
              "      <th>8</th>\n",
              "      <td>871066989</td>\n",
              "      <td>https://github.com/galasa-dev/projectmanagemen...</td>\n",
              "      <td>managers - potential vulnerabilities in common...</td>\n",
              "      <td>upgrade to 1.13</td>\n",
              "    </tr>\n",
              "    <tr>\n",
              "      <th>9</th>\n",
              "      <td>871065998</td>\n",
              "      <td>https://github.com/galasa-dev/projectmanagemen...</td>\n",
              "      <td>managers - vulnerabilities in client-java-7.0.0</td>\n",
              "      <td>upgrade io.kubernetes.client-java to 9.0.3, 10...</td>\n",
              "    </tr>\n",
              "  </tbody>\n",
              "</table>\n",
              "</div>"
            ],
            "text/plain": [
              "          id  ...                                               body\n",
              "0  875390445  ...  Add search capability to Galasa Results Run lo...\n",
              "1  875164874  ...  04/05/2021 06:56:43.860 ERROR pool-6-thread-2 ...\n",
              "2  872101215  ...  Hi Team,\\r\\n\\r\\nI wanted to check if Galasa ca...\n",
              "3  871076197  ...                                    upgrade to 1.26\n",
              "4  871074887  ...                            Upgrade to 4.5.13 or v5\n",
              "5  871071998  ...  A temp directory creation vulnerability exists...\n",
              "6  871070717  ...                                     upgrade to 2.7\n",
              "7  871069632  ...                          upgrade to at least 3.2.2\n",
              "8  871066989  ...                                    upgrade to 1.13\n",
              "9  871065998  ...  upgrade io.kubernetes.client-java to 9.0.3, 10...\n",
              "\n",
              "[10 rows x 4 columns]"
            ]
          },
          "metadata": {
            "tags": []
          },
          "execution_count": 8
        }
      ]
    },
    {
      "cell_type": "markdown",
      "metadata": {
        "id": "9OipbqhvoYAB"
      },
      "source": [
        "**Initial Sanitisation & Processing**"
      ]
    },
    {
      "cell_type": "code",
      "metadata": {
        "colab": {
          "base_uri": "https://localhost:8080/"
        },
        "id": "_eld__pWhVNN",
        "outputId": "da8ea6c2-4f3f-4a7a-9b0d-53325a0e310d"
      },
      "source": [
        "# add body of every post to single txt file\n",
        "list_titlebody_sentences = []\n",
        "for each in all_data:\n",
        "  compact_version_title = each[\"title\"].replace(\"\\n\",\"\")\n",
        "  compact_version_body = each[\"body\"].replace(\"\\n\",\"\").replace(\"\\r\",\" \").replace(\"  \", \" \")\n",
        "  list_titlebody_sentences.append(compact_version_title + \". \" + compact_version_body)\n",
        "\n",
        "print(len(list_titlebody_sentences))\n",
        "\n",
        "#process data to file\n",
        "file_content = \"\\n\".join(list_titlebody_sentences)\n",
        "with open(\"input_text.txt\",\"w\") as f:\n",
        "    f.write(file_content)"
      ],
      "execution_count": 9,
      "outputs": [
        {
          "output_type": "stream",
          "text": [
            "685\n"
          ],
          "name": "stdout"
        }
      ]
    },
    {
      "cell_type": "markdown",
      "metadata": {
        "id": "vOUW4_QDuxRF"
      },
      "source": [
        "# **Extractive Summarisation**"
      ]
    },
    {
      "cell_type": "code",
      "metadata": {
        "id": "mN4-e11Muxnf",
        "colab": {
          "base_uri": "https://localhost:8080/"
        },
        "outputId": "fbb60608-b905-4f58-f5b8-76f0cbf9a5fa"
      },
      "source": [
        "!pip install bert-extractive-summarizer spacy transformers neuralcoref sentencepiece\n",
        "!python -m spacy download en_core_web_md\n",
        "from summarizer import Summarizer\n",
        "from summarizer.coreference_handler import CoreferenceHandler"
      ],
      "execution_count": 37,
      "outputs": [
        {
          "output_type": "stream",
          "text": [
            "Requirement already satisfied: bert-extractive-summarizer in /usr/local/lib/python3.7/dist-packages (0.7.1)\n",
            "Requirement already satisfied: spacy in /usr/local/lib/python3.7/dist-packages (2.2.4)\n",
            "Requirement already satisfied: transformers in /usr/local/lib/python3.7/dist-packages (4.5.1)\n",
            "Requirement already satisfied: neuralcoref in /usr/local/lib/python3.7/dist-packages (4.0)\n",
            "Requirement already satisfied: sentencepiece in /usr/local/lib/python3.7/dist-packages (0.1.95)\n",
            "Requirement already satisfied: scikit-learn in /usr/local/lib/python3.7/dist-packages (from bert-extractive-summarizer) (0.22.2.post1)\n",
            "Requirement already satisfied: catalogue<1.1.0,>=0.0.7 in /usr/local/lib/python3.7/dist-packages (from spacy) (1.0.0)\n",
            "Requirement already satisfied: setuptools in /usr/local/lib/python3.7/dist-packages (from spacy) (56.0.0)\n",
            "Requirement already satisfied: murmurhash<1.1.0,>=0.28.0 in /usr/local/lib/python3.7/dist-packages (from spacy) (1.0.5)\n",
            "Requirement already satisfied: requests<3.0.0,>=2.13.0 in /usr/local/lib/python3.7/dist-packages (from spacy) (2.23.0)\n",
            "Requirement already satisfied: numpy>=1.15.0 in /usr/local/lib/python3.7/dist-packages (from spacy) (1.19.5)\n",
            "Requirement already satisfied: cymem<2.1.0,>=2.0.2 in /usr/local/lib/python3.7/dist-packages (from spacy) (2.0.5)\n",
            "Requirement already satisfied: tqdm<5.0.0,>=4.38.0 in /usr/local/lib/python3.7/dist-packages (from spacy) (4.41.1)\n",
            "Requirement already satisfied: plac<1.2.0,>=0.9.6 in /usr/local/lib/python3.7/dist-packages (from spacy) (1.1.3)\n",
            "Requirement already satisfied: thinc==7.4.0 in /usr/local/lib/python3.7/dist-packages (from spacy) (7.4.0)\n",
            "Requirement already satisfied: blis<0.5.0,>=0.4.0 in /usr/local/lib/python3.7/dist-packages (from spacy) (0.4.1)\n",
            "Requirement already satisfied: preshed<3.1.0,>=3.0.2 in /usr/local/lib/python3.7/dist-packages (from spacy) (3.0.5)\n",
            "Requirement already satisfied: srsly<1.1.0,>=1.0.2 in /usr/local/lib/python3.7/dist-packages (from spacy) (1.0.5)\n",
            "Requirement already satisfied: wasabi<1.1.0,>=0.4.0 in /usr/local/lib/python3.7/dist-packages (from spacy) (0.8.2)\n",
            "Requirement already satisfied: filelock in /usr/local/lib/python3.7/dist-packages (from transformers) (3.0.12)\n",
            "Requirement already satisfied: packaging in /usr/local/lib/python3.7/dist-packages (from transformers) (20.9)\n",
            "Requirement already satisfied: tokenizers<0.11,>=0.10.1 in /usr/local/lib/python3.7/dist-packages (from transformers) (0.10.2)\n",
            "Requirement already satisfied: importlib-metadata; python_version < \"3.8\" in /usr/local/lib/python3.7/dist-packages (from transformers) (3.10.1)\n",
            "Requirement already satisfied: sacremoses in /usr/local/lib/python3.7/dist-packages (from transformers) (0.0.45)\n",
            "Requirement already satisfied: regex!=2019.12.17 in /usr/local/lib/python3.7/dist-packages (from transformers) (2019.12.20)\n",
            "Requirement already satisfied: boto3 in /usr/local/lib/python3.7/dist-packages (from neuralcoref) (1.17.64)\n",
            "Requirement already satisfied: joblib>=0.11 in /usr/local/lib/python3.7/dist-packages (from scikit-learn->bert-extractive-summarizer) (1.0.1)\n",
            "Requirement already satisfied: scipy>=0.17.0 in /usr/local/lib/python3.7/dist-packages (from scikit-learn->bert-extractive-summarizer) (1.4.1)\n",
            "Requirement already satisfied: chardet<4,>=3.0.2 in /usr/local/lib/python3.7/dist-packages (from requests<3.0.0,>=2.13.0->spacy) (3.0.4)\n",
            "Requirement already satisfied: urllib3!=1.25.0,!=1.25.1,<1.26,>=1.21.1 in /usr/local/lib/python3.7/dist-packages (from requests<3.0.0,>=2.13.0->spacy) (1.24.3)\n",
            "Requirement already satisfied: idna<3,>=2.5 in /usr/local/lib/python3.7/dist-packages (from requests<3.0.0,>=2.13.0->spacy) (2.10)\n",
            "Requirement already satisfied: certifi>=2017.4.17 in /usr/local/lib/python3.7/dist-packages (from requests<3.0.0,>=2.13.0->spacy) (2020.12.5)\n",
            "Requirement already satisfied: pyparsing>=2.0.2 in /usr/local/lib/python3.7/dist-packages (from packaging->transformers) (2.4.7)\n",
            "Requirement already satisfied: typing-extensions>=3.6.4; python_version < \"3.8\" in /usr/local/lib/python3.7/dist-packages (from importlib-metadata; python_version < \"3.8\"->transformers) (3.7.4.3)\n",
            "Requirement already satisfied: zipp>=0.5 in /usr/local/lib/python3.7/dist-packages (from importlib-metadata; python_version < \"3.8\"->transformers) (3.4.1)\n",
            "Requirement already satisfied: click in /usr/local/lib/python3.7/dist-packages (from sacremoses->transformers) (7.1.2)\n",
            "Requirement already satisfied: six in /usr/local/lib/python3.7/dist-packages (from sacremoses->transformers) (1.15.0)\n",
            "Requirement already satisfied: botocore<1.21.0,>=1.20.64 in /usr/local/lib/python3.7/dist-packages (from boto3->neuralcoref) (1.20.64)\n",
            "Requirement already satisfied: jmespath<1.0.0,>=0.7.1 in /usr/local/lib/python3.7/dist-packages (from boto3->neuralcoref) (0.10.0)\n",
            "Requirement already satisfied: s3transfer<0.5.0,>=0.4.0 in /usr/local/lib/python3.7/dist-packages (from boto3->neuralcoref) (0.4.2)\n",
            "Requirement already satisfied: python-dateutil<3.0.0,>=2.1 in /usr/local/lib/python3.7/dist-packages (from botocore<1.21.0,>=1.20.64->boto3->neuralcoref) (2.8.1)\n",
            "Requirement already satisfied: en_core_web_md==2.2.5 from https://github.com/explosion/spacy-models/releases/download/en_core_web_md-2.2.5/en_core_web_md-2.2.5.tar.gz#egg=en_core_web_md==2.2.5 in /usr/local/lib/python3.7/dist-packages (2.2.5)\n",
            "Requirement already satisfied: spacy>=2.2.2 in /usr/local/lib/python3.7/dist-packages (from en_core_web_md==2.2.5) (2.2.4)\n",
            "Requirement already satisfied: plac<1.2.0,>=0.9.6 in /usr/local/lib/python3.7/dist-packages (from spacy>=2.2.2->en_core_web_md==2.2.5) (1.1.3)\n",
            "Requirement already satisfied: catalogue<1.1.0,>=0.0.7 in /usr/local/lib/python3.7/dist-packages (from spacy>=2.2.2->en_core_web_md==2.2.5) (1.0.0)\n",
            "Requirement already satisfied: wasabi<1.1.0,>=0.4.0 in /usr/local/lib/python3.7/dist-packages (from spacy>=2.2.2->en_core_web_md==2.2.5) (0.8.2)\n",
            "Requirement already satisfied: tqdm<5.0.0,>=4.38.0 in /usr/local/lib/python3.7/dist-packages (from spacy>=2.2.2->en_core_web_md==2.2.5) (4.41.1)\n",
            "Requirement already satisfied: blis<0.5.0,>=0.4.0 in /usr/local/lib/python3.7/dist-packages (from spacy>=2.2.2->en_core_web_md==2.2.5) (0.4.1)\n",
            "Requirement already satisfied: murmurhash<1.1.0,>=0.28.0 in /usr/local/lib/python3.7/dist-packages (from spacy>=2.2.2->en_core_web_md==2.2.5) (1.0.5)\n",
            "Requirement already satisfied: srsly<1.1.0,>=1.0.2 in /usr/local/lib/python3.7/dist-packages (from spacy>=2.2.2->en_core_web_md==2.2.5) (1.0.5)\n",
            "Requirement already satisfied: thinc==7.4.0 in /usr/local/lib/python3.7/dist-packages (from spacy>=2.2.2->en_core_web_md==2.2.5) (7.4.0)\n",
            "Requirement already satisfied: cymem<2.1.0,>=2.0.2 in /usr/local/lib/python3.7/dist-packages (from spacy>=2.2.2->en_core_web_md==2.2.5) (2.0.5)\n",
            "Requirement already satisfied: setuptools in /usr/local/lib/python3.7/dist-packages (from spacy>=2.2.2->en_core_web_md==2.2.5) (56.0.0)\n",
            "Requirement already satisfied: requests<3.0.0,>=2.13.0 in /usr/local/lib/python3.7/dist-packages (from spacy>=2.2.2->en_core_web_md==2.2.5) (2.23.0)\n",
            "Requirement already satisfied: preshed<3.1.0,>=3.0.2 in /usr/local/lib/python3.7/dist-packages (from spacy>=2.2.2->en_core_web_md==2.2.5) (3.0.5)\n",
            "Requirement already satisfied: numpy>=1.15.0 in /usr/local/lib/python3.7/dist-packages (from spacy>=2.2.2->en_core_web_md==2.2.5) (1.19.5)\n",
            "Requirement already satisfied: importlib-metadata>=0.20; python_version < \"3.8\" in /usr/local/lib/python3.7/dist-packages (from catalogue<1.1.0,>=0.0.7->spacy>=2.2.2->en_core_web_md==2.2.5) (3.10.1)\n",
            "Requirement already satisfied: certifi>=2017.4.17 in /usr/local/lib/python3.7/dist-packages (from requests<3.0.0,>=2.13.0->spacy>=2.2.2->en_core_web_md==2.2.5) (2020.12.5)\n",
            "Requirement already satisfied: idna<3,>=2.5 in /usr/local/lib/python3.7/dist-packages (from requests<3.0.0,>=2.13.0->spacy>=2.2.2->en_core_web_md==2.2.5) (2.10)\n",
            "Requirement already satisfied: chardet<4,>=3.0.2 in /usr/local/lib/python3.7/dist-packages (from requests<3.0.0,>=2.13.0->spacy>=2.2.2->en_core_web_md==2.2.5) (3.0.4)\n",
            "Requirement already satisfied: urllib3!=1.25.0,!=1.25.1,<1.26,>=1.21.1 in /usr/local/lib/python3.7/dist-packages (from requests<3.0.0,>=2.13.0->spacy>=2.2.2->en_core_web_md==2.2.5) (1.24.3)\n",
            "Requirement already satisfied: zipp>=0.5 in /usr/local/lib/python3.7/dist-packages (from importlib-metadata>=0.20; python_version < \"3.8\"->catalogue<1.1.0,>=0.0.7->spacy>=2.2.2->en_core_web_md==2.2.5) (3.4.1)\n",
            "Requirement already satisfied: typing-extensions>=3.6.4; python_version < \"3.8\" in /usr/local/lib/python3.7/dist-packages (from importlib-metadata>=0.20; python_version < \"3.8\"->catalogue<1.1.0,>=0.0.7->spacy>=2.2.2->en_core_web_md==2.2.5) (3.7.4.3)\n",
            "\u001b[38;5;2m✔ Download and installation successful\u001b[0m\n",
            "You can now load the model via spacy.load('en_core_web_md')\n"
          ],
          "name": "stdout"
        }
      ]
    },
    {
      "cell_type": "code",
      "metadata": {
        "id": "ybRoDyTRLJD5"
      },
      "source": [
        "model = Summarizer()"
      ],
      "execution_count": 38,
      "outputs": []
    },
    {
      "cell_type": "code",
      "metadata": {
        "id": "_KhkV3wUv0a8",
        "colab": {
          "base_uri": "https://localhost:8080/"
        },
        "outputId": "96f9f432-206a-41ac-cd67-b14ddcf54aef"
      },
      "source": [
        "body = list_titlebody_sentences[229]\n",
        "result = model(body, min_length=60)\n",
        "full = ''.join(result)\n",
        "\n",
        "pp = pprint.PrettyPrinter(indent=4)\n",
        "\n",
        "print(\"\\n==========================ORIGINAL==============================\\n\")\n",
        "pp.pprint(body)\n",
        "\n",
        "print(\"\\n==========================SUMMARY==============================\\n\")\n",
        "pp.pprint(full)"
      ],
      "execution_count": 40,
      "outputs": [
        {
          "output_type": "stream",
          "text": [
            "\n",
            "==========================ORIGINAL==============================\n",
            "\n",
            "('zOS/MF CPS properties need reworking. The way the current CPS properties '\n",
            " 'work at the moment, mistakenly uses the ClusterID as a reference, where it '\n",
            " 'should not as ClusterID should only be used for zosImage provisioning. To '\n",
            " 'find which zOS/MF zos* should use for managing an Image should be a '\n",
            " 'combination of Image and Sysplex. So I propose the following CPS properties '\n",
            " 'and routes to finding the zosmf server to use for a provisioned zos '\n",
            " 'imageFirst, a zosmf server should have a unique ServerID (instead of using '\n",
            " 'the clusterID), reason, there may be 2 zOS/MF servers on an '\n",
            " 'image:-zosmf.server.SERVERID.image=IMAGEID   (says where the server is '\n",
            " 'installed, used to get host name and default '\n",
            " 'creds)zosmf.server.SERVERID.port=99999    ( the host name is not provided as '\n",
            " 'should get from unmanaged zosimage, saves coding '\n",
            " 'twice)zosmf.server.SERVERID.https=true     (https or not, default '\n",
            " 'true)zosmf.server.SERVERID.credentials=CREDSID  ( incase your want to '\n",
            " 'override the default zosimage creds)We need an default index of all the '\n",
            " 'zOSMF servers on a SYSPLEX (not '\n",
            " 'cluster).zosmf.sysplex.SYSPLEXID.default.servers=SERVERID1,SERVERID2(changed '\n",
            " 'the zosmf.server. to zosmf.sysplex. as it was confusing the hell out of me '\n",
            " 'what the property related to.)we also need the ability to override for '\n",
            " 'specific images:-zosmf.image.IMAGEID.servers=SERVERID1,SERVERID2So if you '\n",
            " 'need a zosmf server for MV2C, you would do the following:-Search for '\n",
            " 'zosmf.image.MV2C.servers=SERVERID1if not found, request the sysplexid '\n",
            " '(mandatory) from zosimage:-zos.image.MV2C.sysplex=PLEX2get the server list '\n",
            " 'for PLEX2zosmf.sysplex.PLEX2.default.servers=SERVERID1,SERVERID2The sysplex '\n",
            " 'assumes that it is a shared MAS, if the MAS is not, then the image override '\n",
            " 'comes into play for complicated scenarios.if missing, assume a default zosmf '\n",
            " 'server on the actual instance and assume the default port (443?)')\n",
            "\n",
            "==========================SUMMARY==============================\n",
            "\n",
            "('The way the current CPS properties work at the moment, mistakenly uses the '\n",
            " 'ClusterID as a reference, where it should not as ClusterID should only be '\n",
            " 'used for zosImage provisioning. SERVERID.port=99999    ( the host name is '\n",
            " 'not provided as should get from unmanaged zosimage, saves coding '\n",
            " 'twice)zosmf.server. SERVERID.credentials=CREDSID  ( incase your want to '\n",
            " 'override the default zosimage creds)We need an default index of all the '\n",
            " 'zOSMF servers on a SYSPLEX (not cluster).zosmf.sysplex.')\n"
          ],
          "name": "stdout"
        }
      ]
    },
    {
      "cell_type": "markdown",
      "metadata": {
        "id": "h9cUKuxO-fJK"
      },
      "source": [
        "# **SEMANTIC SEARCH USING BERT**"
      ]
    },
    {
      "cell_type": "code",
      "metadata": {
        "colab": {
          "base_uri": "https://localhost:8080/"
        },
        "id": "D8wW98KQ-rm2",
        "outputId": "0e4d51d3-181e-449d-84e1-cdd7dbdee0f3"
      },
      "source": [
        "!python \"/content/transformers/examples/legacy/run_language_modeling.py\" \\\n",
        "    --output_dir=\"/content/drive/My Drive/BERT_Similarity/Fine_Tuned_BERT\" \\\n",
        "    --overwrite_output_dir \\\n",
        "    --model_type=bert \\\n",
        "    --model_name_or_path=google/bert_uncased_L-2_H-128_A-2 \\\n",
        "    --do_train \\\n",
        "    --block_size=512 \\\n",
        "    --train_data_file=\"/content/input_text.txt\" \\\n",
        "    --mlm"
      ],
      "execution_count": 27,
      "outputs": [
        {
          "output_type": "stream",
          "text": [
            "2021-05-04 14:26:23.416337: I tensorflow/stream_executor/platform/default/dso_loader.cc:49] Successfully opened dynamic library libcudart.so.11.0\n",
            "05/04/2021 14:26:24 - WARNING - __main__ -   Process rank: -1, device: cuda:0, n_gpu: 1, distributed training: False, 16-bits training: False\n",
            "05/04/2021 14:26:24 - INFO - __main__ -   Training/evaluation parameters TrainingArguments(output_dir=/content/drive/My Drive/BERT_Similarity/Fine_Tuned_BERT, overwrite_output_dir=True, do_train=True, do_eval=None, do_predict=False, evaluation_strategy=IntervalStrategy.NO, prediction_loss_only=False, per_device_train_batch_size=8, per_device_eval_batch_size=8, gradient_accumulation_steps=1, eval_accumulation_steps=None, learning_rate=5e-05, weight_decay=0.0, adam_beta1=0.9, adam_beta2=0.999, adam_epsilon=1e-08, max_grad_norm=1.0, num_train_epochs=3.0, max_steps=-1, lr_scheduler_type=SchedulerType.LINEAR, warmup_ratio=0.0, warmup_steps=0, logging_dir=runs/May04_14-26-24_2ba0666998ef, logging_strategy=IntervalStrategy.STEPS, logging_first_step=False, logging_steps=500, save_strategy=IntervalStrategy.STEPS, save_steps=500, save_total_limit=None, no_cuda=False, seed=42, fp16=False, fp16_opt_level=O1, fp16_backend=auto, fp16_full_eval=False, local_rank=-1, tpu_num_cores=None, tpu_metrics_debug=False, debug=False, dataloader_drop_last=False, eval_steps=500, dataloader_num_workers=0, past_index=-1, run_name=/content/drive/My Drive/BERT_Similarity/Fine_Tuned_BERT, disable_tqdm=False, remove_unused_columns=True, label_names=None, load_best_model_at_end=False, metric_for_best_model=None, greater_is_better=None, ignore_data_skip=False, sharded_ddp=[], deepspeed=None, label_smoothing_factor=0.0, adafactor=False, group_by_length=False, length_column_name=length, report_to=['tensorboard'], ddp_find_unused_parameters=None, dataloader_pin_memory=True, skip_memory_metrics=False, _n_gpu=1, mp_parameters=)\n",
            "[INFO|configuration_utils.py:491] 2021-05-04 14:26:25,156 >> loading configuration file https://huggingface.co/google/bert_uncased_L-2_H-128_A-2/resolve/main/config.json from cache at /root/.cache/huggingface/transformers/267e014e0691a01eec80d89bb2425a3d308d8cecfb1d6e87be0dc333713851b6.f7c0b2bc8a921bf36b061a6a20c9b520a23fb3f3cd8d356d1501424870e750a8\n",
            "[INFO|configuration_utils.py:527] 2021-05-04 14:26:25,156 >> Model config BertConfig {\n",
            "  \"attention_probs_dropout_prob\": 0.1,\n",
            "  \"gradient_checkpointing\": false,\n",
            "  \"hidden_act\": \"gelu\",\n",
            "  \"hidden_dropout_prob\": 0.1,\n",
            "  \"hidden_size\": 128,\n",
            "  \"initializer_range\": 0.02,\n",
            "  \"intermediate_size\": 512,\n",
            "  \"layer_norm_eps\": 1e-12,\n",
            "  \"max_position_embeddings\": 512,\n",
            "  \"model_type\": \"bert\",\n",
            "  \"num_attention_heads\": 2,\n",
            "  \"num_hidden_layers\": 2,\n",
            "  \"pad_token_id\": 0,\n",
            "  \"position_embedding_type\": \"absolute\",\n",
            "  \"transformers_version\": \"4.5.1\",\n",
            "  \"type_vocab_size\": 2,\n",
            "  \"use_cache\": true,\n",
            "  \"vocab_size\": 30522\n",
            "}\n",
            "\n",
            "[INFO|configuration_utils.py:491] 2021-05-04 14:26:25,258 >> loading configuration file https://huggingface.co/google/bert_uncased_L-2_H-128_A-2/resolve/main/config.json from cache at /root/.cache/huggingface/transformers/267e014e0691a01eec80d89bb2425a3d308d8cecfb1d6e87be0dc333713851b6.f7c0b2bc8a921bf36b061a6a20c9b520a23fb3f3cd8d356d1501424870e750a8\n",
            "[INFO|configuration_utils.py:527] 2021-05-04 14:26:25,259 >> Model config BertConfig {\n",
            "  \"attention_probs_dropout_prob\": 0.1,\n",
            "  \"gradient_checkpointing\": false,\n",
            "  \"hidden_act\": \"gelu\",\n",
            "  \"hidden_dropout_prob\": 0.1,\n",
            "  \"hidden_size\": 128,\n",
            "  \"initializer_range\": 0.02,\n",
            "  \"intermediate_size\": 512,\n",
            "  \"layer_norm_eps\": 1e-12,\n",
            "  \"max_position_embeddings\": 512,\n",
            "  \"model_type\": \"bert\",\n",
            "  \"num_attention_heads\": 2,\n",
            "  \"num_hidden_layers\": 2,\n",
            "  \"pad_token_id\": 0,\n",
            "  \"position_embedding_type\": \"absolute\",\n",
            "  \"transformers_version\": \"4.5.1\",\n",
            "  \"type_vocab_size\": 2,\n",
            "  \"use_cache\": true,\n",
            "  \"vocab_size\": 30522\n",
            "}\n",
            "\n",
            "[INFO|tokenization_utils_base.py:1707] 2021-05-04 14:26:25,759 >> loading file https://huggingface.co/google/bert_uncased_L-2_H-128_A-2/resolve/main/vocab.txt from cache at /root/.cache/huggingface/transformers/ae380908d995c42fb737d4224ce3c5ff2fa4c9ea645510f07ed1b65d2b7a61ba.d789d64ebfe299b0e416afc4a169632f903f693095b4629a7ea271d5a0cf2c99\n",
            "[INFO|tokenization_utils_base.py:1707] 2021-05-04 14:26:25,759 >> loading file https://huggingface.co/google/bert_uncased_L-2_H-128_A-2/resolve/main/tokenizer.json from cache at None\n",
            "[INFO|tokenization_utils_base.py:1707] 2021-05-04 14:26:25,759 >> loading file https://huggingface.co/google/bert_uncased_L-2_H-128_A-2/resolve/main/added_tokens.json from cache at None\n",
            "[INFO|tokenization_utils_base.py:1707] 2021-05-04 14:26:25,759 >> loading file https://huggingface.co/google/bert_uncased_L-2_H-128_A-2/resolve/main/special_tokens_map.json from cache at None\n",
            "[INFO|tokenization_utils_base.py:1707] 2021-05-04 14:26:25,760 >> loading file https://huggingface.co/google/bert_uncased_L-2_H-128_A-2/resolve/main/tokenizer_config.json from cache at None\n",
            "/usr/local/lib/python3.7/dist-packages/transformers/models/auto/modeling_auto.py:762: FutureWarning: The class `AutoModelWithLMHead` is deprecated and will be removed in a future version. Please use `AutoModelForCausalLM` for causal language models, `AutoModelForMaskedLM` for masked language models and `AutoModelForSeq2SeqLM` for encoder-decoder models.\n",
            "  FutureWarning,\n",
            "[INFO|modeling_utils.py:1052] 2021-05-04 14:26:25,911 >> loading weights file https://huggingface.co/google/bert_uncased_L-2_H-128_A-2/resolve/main/pytorch_model.bin from cache at /root/.cache/huggingface/transformers/dda68f403046cbaa7f1314af6c12d9bada21763b4eb19736e67848fc06866e42.7403e6b557aa7a336c7fe70b39767fd8466a1ef0abefa50da785ab461983f35b\n",
            "[WARNING|modeling_utils.py:1160] 2021-05-04 14:26:26,179 >> Some weights of the model checkpoint at google/bert_uncased_L-2_H-128_A-2 were not used when initializing BertForMaskedLM: ['cls.seq_relationship.weight', 'cls.seq_relationship.bias']\n",
            "- This IS expected if you are initializing BertForMaskedLM from the checkpoint of a model trained on another task or with another architecture (e.g. initializing a BertForSequenceClassification model from a BertForPreTraining model).\n",
            "- This IS NOT expected if you are initializing BertForMaskedLM from the checkpoint of a model that you expect to be exactly identical (initializing a BertForSequenceClassification model from a BertForSequenceClassification model).\n",
            "[INFO|modeling_utils.py:1177] 2021-05-04 14:26:26,179 >> All the weights of BertForMaskedLM were initialized from the model checkpoint at google/bert_uncased_L-2_H-128_A-2.\n",
            "If your task is similar to the task the model of the checkpoint was trained on, you can already use BertForMaskedLM for predictions without further training.\n",
            "Traceback (most recent call last):\n",
            "  File \"/content/transformers/examples/legacy/run_language_modeling.py\", line 364, in <module>\n",
            "    main()\n",
            "  File \"/content/transformers/examples/legacy/run_language_modeling.py\", line 283, in main\n",
            "    data_args.block_size = min(data_args.block_size, tokenizer.max_len)\n",
            "AttributeError: 'BertTokenizerFast' object has no attribute 'max_len'\n"
          ],
          "name": "stdout"
        }
      ]
    },
    {
      "cell_type": "code",
      "metadata": {
        "colab": {
          "base_uri": "https://localhost:8080/"
        },
        "id": "zlQB6MsaFZON",
        "outputId": "7e2cbe37-d73d-444a-eade-6369f246aa0f"
      },
      "source": [
        "gc.collect()\n",
        "torch.cuda.empty_cache()\n",
        "  \n",
        "word_embedding_model = st.models.Transformer(\"/content/drive/My Drive/BertSentenceSimilarity/BERTfine\")\n",
        "pooling_model = models.Pooling(word_embedding_model.get_word_embedding_dimension(),\n",
        "                               pooling_mode_mean_tokens=True,\n",
        "                               pooling_mode_cls_token=False,\n",
        "                               pooling_mode_max_tokens=True)\n",
        "\n",
        "model = SentenceTransformer(modules=[word_embedding_model, pooling_model])"
      ],
      "execution_count": 28,
      "outputs": [
        {
          "output_type": "stream",
          "text": [
            "Some weights of BertModel were not initialized from the model checkpoint at /content/drive/My Drive/BertSentenceSimilarity/BERTfine and are newly initialized: ['bert.pooler.dense.weight', 'bert.pooler.dense.bias']\n",
            "You should probably TRAIN this model on a down-stream task to be able to use it for predictions and inference.\n"
          ],
          "name": "stderr"
        }
      ]
    },
    {
      "cell_type": "code",
      "metadata": {
        "colab": {
          "base_uri": "https://localhost:8080/",
          "height": 115,
          "referenced_widgets": [
            "900016dda4ee41f4abdba666b9f47c44",
            "e24b7f86b7f54588ae14576269dfdc6b",
            "2e6a524f180c4f4c96a2b8e76d90a552",
            "dc778d60c7224fedb688be37389a4abe",
            "dc6b51dedb5b44439db8e80e2e002e72",
            "7d0b3dbce4bb4746819e8ce6d4d5b5cb",
            "a080db794613459c9944abdf585eb280",
            "e576ed4e192540cd837a91b5451360b1",
            "0894d3e110e740c0be6a5ff1aa2dcd7a",
            "d6f8b95ac6bd4f4cba00ece4830865d4",
            "151ff9f371694e49ac069754be283c7a",
            "2ccb2b9eea7044f7810f377f6e7410a0",
            "33de92adcaaa4ac2bb11dde5306e0581",
            "88ca1d68936f4a088a8131c48f749bd1",
            "0e8948abb1ce4989bf6988f21ca12fd0",
            "86515a07735a4c27bd4cb82ab3c8353c"
          ]
        },
        "id": "2_Xo_dyCBwR-",
        "outputId": "f40fe963-83af-4800-b393-4dc964fc7c2d"
      },
      "source": [
        "corpus = []\n",
        "for each in list_titlebody_sentences:\n",
        "  if len(each) <= 1484:\n",
        "    corpus.append(each)\n",
        "  else:\n",
        "    corpus.append('')\n",
        "\n",
        "embedded_corpus = model.encode(corpus, show_progress_bar=True)\n",
        "\n",
        "queries = ['Dockerfile docker image',\n",
        "           'Is there a standalone version of the galasa.dev documentation site?',\n",
        "           'Has anyone moved the z/OS 3270 Manager to Beta?']\n",
        "embedded_queries = model.encode(queries, show_progress_bar=True)\n",
        "\n"
      ],
      "execution_count": 34,
      "outputs": [
        {
          "output_type": "display_data",
          "data": {
            "application/vnd.jupyter.widget-view+json": {
              "model_id": "900016dda4ee41f4abdba666b9f47c44",
              "version_minor": 0,
              "version_major": 2
            },
            "text/plain": [
              "HBox(children=(FloatProgress(value=0.0, description='Batches', max=22.0, style=ProgressStyle(description_width…"
            ]
          },
          "metadata": {
            "tags": []
          }
        },
        {
          "output_type": "stream",
          "text": [
            "\n"
          ],
          "name": "stdout"
        },
        {
          "output_type": "display_data",
          "data": {
            "application/vnd.jupyter.widget-view+json": {
              "model_id": "0894d3e110e740c0be6a5ff1aa2dcd7a",
              "version_minor": 0,
              "version_major": 2
            },
            "text/plain": [
              "HBox(children=(FloatProgress(value=0.0, description='Batches', max=1.0, style=ProgressStyle(description_width=…"
            ]
          },
          "metadata": {
            "tags": []
          }
        },
        {
          "output_type": "stream",
          "text": [
            "\n"
          ],
          "name": "stdout"
        }
      ]
    },
    {
      "cell_type": "code",
      "metadata": {
        "colab": {
          "base_uri": "https://localhost:8080/",
          "height": 1000
        },
        "id": "Fkk8auxgCXbb",
        "outputId": "b82042e9-f94f-4c2e-a5d3-8de2f875163e"
      },
      "source": [
        "closest_n = 5\n",
        "print(\"\\nTOP 5 RELEVANT GITHUB ISSUES POSTS\\n\")\n",
        "\n",
        "for q, q_embed in zip(queries, embedded_queries):\n",
        "    distances = scipy.spatial.distance.cdist([q_embed], embedded_corpus, \"cosine\")[0]\n",
        "    \n",
        "    results = zip(range(len(distances)), distances)\n",
        "    results = sorted(results, key=lambda x: x[1])\n",
        "\n",
        "    print(\"\\nQUERY: \",q)\n",
        "    print(\"=\" * int(1.15 * len(q)),\"\\n\")\n",
        "\n",
        "    for idx, distance in results[0:closest_n]:\n",
        "        print(\"Score:   \", \"(Score: %.4f)\" % (1-distance) , \"\\n\" )\n",
        "        # print(\"Paragraph:   \", corpus[idx].strip(), \"\\n\" )\n",
        "        row_dict = test_data_frame.loc[test_data_frame.index == idx].to_dict()\n",
        "        print(\"Title:  \" , row_dict[\"title\"] , \"\\n\")\n",
        "        print(\"Body:  \" , row_dict[\"body\"] , \"\\n\")\n",
        "        print(\"URL:  \" , row_dict[\"html_url\"] , \"\\n\")\n",
        "        print(\"-\" * int(1.15 * max(len(str(row_dict[\"body\"])),len(str(row_dict[\"title\"])))),\"\\n\")\n",
        "\n",
        "    plt.plot(1 - distances, 'bx')\n",
        "    plt.show()\n",
        "\n"
      ],
      "execution_count": 35,
      "outputs": [
        {
          "output_type": "stream",
          "text": [
            "\n",
            "TOP 5 RELEVANT GITHUB ISSUES POSTS\n",
            "\n",
            "\n",
            "QUERY:  Dockerfile docker image\n",
            "========================== \n",
            "\n",
            "Score:    (Score: 0.9379) \n",
            "\n",
            "Title:   {132: 'Implement building the docker image from the Dockerfile'} \n",
            "\n",
            "Body:   {132: ''} \n",
            "\n",
            "URL:   {132: 'https://github.com/galasa-dev/projectmanagement/issues/554'} \n",
            "\n",
            "------------------------------------------------------------------------- \n",
            "\n",
            "Score:    (Score: 0.9040) \n",
            "\n",
            "Title:   {153: 'Implement Docker volumes into the Docker Manager'} \n",
            "\n",
            "Body:   {153: ''} \n",
            "\n",
            "URL:   {153: 'https://github.com/galasa-dev/projectmanagement/issues/533'} \n",
            "\n",
            "----------------------------------------------------------------- \n",
            "\n",
            "Score:    (Score: 0.8826) \n",
            "\n",
            "Title:   {336: 'Enhance Docker Operator for s390x'} \n",
            "\n",
            "Body:   {336: ''} \n",
            "\n",
            "URL:   {336: 'https://github.com/galasa-dev/projectmanagement/issues/350'} \n",
            "\n",
            "------------------------------------------------ \n",
            "\n",
            "Score:    (Score: 0.8764) \n",
            "\n",
            "Title:   {141: 'Implement passing environment variables to docker run in Docker Manager'} \n",
            "\n",
            "Body:   {141: ''} \n",
            "\n",
            "URL:   {141: 'https://github.com/galasa-dev/projectmanagement/issues/545'} \n",
            "\n",
            "-------------------------------------------------------------------------------------------- \n",
            "\n",
            "Score:    (Score: 0.8755) \n",
            "\n",
            "Title:   {111: 'Update Docker operator version documentation'} \n",
            "\n",
            "Body:   {111: ''} \n",
            "\n",
            "URL:   {111: 'https://github.com/galasa-dev/projectmanagement/issues/575'} \n",
            "\n",
            "------------------------------------------------------------ \n",
            "\n"
          ],
          "name": "stdout"
        },
        {
          "output_type": "display_data",
          "data": {
            "image/png": "[encoded data removed]",
            "text/plain": [
              "<Figure size 432x288 with 1 Axes>"
            ]
          },
          "metadata": {
            "tags": [],
            "needs_background": "light"
          }
        },
        {
          "output_type": "stream",
          "text": [
            "\n",
            "QUERY:  Is there a standalone version of the galasa.dev documentation site?\n",
            "============================================================================= \n",
            "\n",
            "Score:    (Score: 0.9157) \n",
            "\n",
            "Title:   {30: 'Produce standalone version of the galasa.dev documentation site'} \n",
            "\n",
            "Body:   {30: 'For the closed network solutions we need standalone versions of the galasa.dev documentation.   Specifically we need:-\\n\\n1. A version that can run from a directory of the laptop,  point the browser at the index.html and all the docs are available\\n2. A docker image running something to present the documentation to the browser from the docker container.'} \n",
            "\n",
            "URL:   {30: 'https://github.com/galasa-dev/projectmanagement/issues/656'} \n",
            "\n",
            "--------------------------------------------------------------------------------------------------------------------------------------------------------------------------------------------------------------------------------------------------------------------------------------------------------------------------------------------------------------------------------------------------------------------------------- \n",
            "\n",
            "Score:    (Score: 0.9048) \n",
            "\n",
            "Title:   {576: 'Make Galasa an Eclipse product so its icon appears on the About Eclipse dialog'} \n",
            "\n",
            "Body:   {576: ''} \n",
            "\n",
            "URL:   {576: 'https://github.com/galasa-dev/projectmanagement/issues/109'} \n",
            "\n",
            "---------------------------------------------------------------------------------------------------- \n",
            "\n",
            "Score:    (Score: 0.9014) \n",
            "\n",
            "Title:   {149: 'Create the RunView page in the WebUI'} \n",
            "\n",
            "Body:   {149: 'This epic covers the work required for the Run View web page.'} \n",
            "\n",
            "URL:   {149: 'https://github.com/galasa-dev/projectmanagement/issues/537'} \n",
            "\n",
            "-------------------------------------------------------------------------------- \n",
            "\n",
            "Score:    (Score: 0.9013) \n",
            "\n",
            "Title:   {29: 'Test the MVP Galasa Distribution and documentation'} \n",
            "\n",
            "Body:   {29: 'Manually test the MVP Galasa Distribution and documentation on various operating systems:-\\n\\n1. Windows\\n1. Mac\\n1. Ubuntu'} \n",
            "\n",
            "URL:   {29: 'https://github.com/galasa-dev/projectmanagement/issues/657'} \n",
            "\n",
            "------------------------------------------------------------------------------------------------------------------------------------------------------ \n",
            "\n",
            "Score:    (Score: 0.8996) \n",
            "\n",
            "Title:   {382: 'Create Galasa Manager in JAT'} \n",
            "\n",
            "Body:   {382: 'For running Galasa tests from JAT.\\n\\nNeeds to copy as many stored artifacts back to JAT as possible including the run log.'} \n",
            "\n",
            "URL:   {382: 'https://github.com/galasa-dev/projectmanagement/issues/304'} \n",
            "\n",
            "------------------------------------------------------------------------------------------------------------------------------------------------------- \n",
            "\n"
          ],
          "name": "stdout"
        },
        {
          "output_type": "display_data",
          "data": {
            "image/png": "[encoded data removed]",
            "text/plain": [
              "<Figure size 432x288 with 1 Axes>"
            ]
          },
          "metadata": {
            "tags": [],
            "needs_background": "light"
          }
        },
        {
          "output_type": "stream",
          "text": [
            "\n",
            "QUERY:  Has anyone moved the z/OS 3270 Manager to Beta?\n",
            "====================================================== \n",
            "\n",
            "Score:    (Score: 0.9141) \n",
            "\n",
            "Title:   {473: 'RELEASE the z/OS 3270 Manager'} \n",
            "\n",
            "Body:   {473: 'Perform the testing required to move the z/OS 3270 Manager to Release level.'} \n",
            "\n",
            "URL:   {473: 'https://github.com/galasa-dev/projectmanagement/issues/213'} \n",
            "\n",
            "------------------------------------------------------------------------------------------------- \n",
            "\n",
            "Score:    (Score: 0.9136) \n",
            "\n",
            "Title:   {523: 'z/OS Console Manager has only a placeholder documentation page'} \n",
            "\n",
            "Body:   {523: ''} \n",
            "\n",
            "URL:   {523: 'https://github.com/galasa-dev/projectmanagement/issues/163'} \n",
            "\n",
            "--------------------------------------------------------------------------------- \n",
            "\n",
            "Score:    (Score: 0.9102) \n",
            "\n",
            "Title:   {657: 'Increase CC% for the zOS 3270 Manager'} \n",
            "\n",
            "Body:   {657: ''} \n",
            "\n",
            "URL:   {657: 'https://github.com/galasa-dev/projectmanagement/issues/28'} \n",
            "\n",
            "---------------------------------------------------- \n",
            "\n",
            "Score:    (Score: 0.9088) \n",
            "\n",
            "Title:   {524: 'z/OS Batch Manager has only a placeholder documentation page'} \n",
            "\n",
            "Body:   {524: ''} \n",
            "\n",
            "URL:   {524: 'https://github.com/galasa-dev/projectmanagement/issues/162'} \n",
            "\n",
            "------------------------------------------------------------------------------- \n",
            "\n",
            "Score:    (Score: 0.9058) \n",
            "\n",
            "Title:   {525: \"z/OS 3270 manager doesn't have a documentation page\"} \n",
            "\n",
            "Body:   {525: ''} \n",
            "\n",
            "URL:   {525: 'https://github.com/galasa-dev/projectmanagement/issues/161'} \n",
            "\n",
            "--------------------------------------------------------------------- \n",
            "\n"
          ],
          "name": "stdout"
        },
        {
          "output_type": "display_data",
          "data": {
            "image/png": "[encoded data removed]",
            "text/plain": [
              "<Figure size 432x288 with 1 Axes>"
            ]
          },
          "metadata": {
            "tags": [],
            "needs_background": "light"
          }
        }
      ]
    }
  ]
}